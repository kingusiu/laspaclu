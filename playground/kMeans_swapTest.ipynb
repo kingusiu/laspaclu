{
 "cells": [
  {
   "cell_type": "code",
   "execution_count": 1,
   "metadata": {},
   "outputs": [
    {
     "name": "stderr",
     "output_type": "stream",
     "text": [
      "/home/kinga/.local/lib/python3.6/site-packages/qiskit/__init__.py:67: DeprecationWarning: Using Qiskit with Python 3.6 is deprecated as of the 0.17.0 release. Support for running Qiskit with Python 3.6 will be removed in a future release.\n",
      "  \"future release.\", DeprecationWarning)\n"
     ]
    }
   ],
   "source": [
    "import numpy as np\n",
    "import importlib\n",
    "import util as uti\n",
    "import matplotlib.pyplot as plt\n",
    "importlib.reload(uti)\n",
    "\n",
    "# import math lib\n",
    "from math import pi\n",
    "\n",
    "# import Qiskit\n",
    "from qiskit import Aer, IBMQ, execute\n",
    "from qiskit import QuantumCircuit, ClassicalRegister, QuantumRegister\n",
    "\n",
    "# import basic plot tools\n",
    "#import qiskit.visualization as vis\n",
    "from qiskit.visualization import plot_histogram\n",
    "%matplotlib inline"
   ]
  },
  {
   "cell_type": "markdown",
   "metadata": {},
   "source": [
    "# input data"
   ]
  },
  {
   "cell_type": "code",
   "execution_count": 9,
   "metadata": {},
   "outputs": [],
   "source": [
    "train1 = np.array([0.8, 0.2])\n",
    "train2 = np.array([0.1, 0.9])\n",
    "test = np.array([0.2, 0.8])"
   ]
  },
  {
   "cell_type": "markdown",
   "metadata": {},
   "source": [
    "# quantum k-means with swap test"
   ]
  },
  {
   "cell_type": "code",
   "execution_count": 10,
   "metadata": {},
   "outputs": [],
   "source": [
    "def calc_amplitudes(v):\n",
    "    norm = np.linalg.norm(v)\n",
    "    return v/norm"
   ]
  },
  {
   "cell_type": "markdown",
   "metadata": {},
   "source": [
    "## swap test"
   ]
  },
  {
   "cell_type": "code",
   "execution_count": 11,
   "metadata": {},
   "outputs": [],
   "source": [
    "# routine that expresses overlap of v1 and v2\n",
    "def swap_test(v1_amp, v2_amp, draw=False):\n",
    "    \n",
    "    backend = Aer.get_backend('qasm_simulator')\n",
    "    # create Quantum Register called \"qr\" with 5 qubits\n",
    "    qr = QuantumRegister(5, name=\"qr\")\n",
    "    # create Classical Register called \"cr\" with 5 bits\n",
    "    cr = ClassicalRegister(1, name=\"cr\")\n",
    "    # Creating Quantum Circuit called \"qc\" involving your Quantum Register \"qr\"\n",
    "    # and your Classical Register \"cr\"\n",
    "    qc = QuantumCircuit(qr, cr, name=\"swap_test\")\n",
    "    \n",
    "    # load data\n",
    "    qc.initialize(v1_amp, 1)\n",
    "    # second qubit stays in |0> because second vector has only 1 qubit and the other is padding\n",
    "    qc.initialize(v2_amp, qr[3:5])\n",
    "    #qc.initialize(v2_amp[2:3], 4)\n",
    "    \n",
    "    # build swap test\n",
    "    qc.h(qr[0])\n",
    "    qc.cswap(qr[0], qr[1], qr[3])\n",
    "    qc.cswap(qr[0], qr[2], qr[4])\n",
    "    qc.h(qr[0])\n",
    "    \n",
    "    # measure\n",
    "    qc.measure(qr[0], cr[0])\n",
    "    if draw:\n",
    "        qc.draw()\n",
    "        \n",
    "    shots=1024    \n",
    "    job = execute(qc, backend=backend, shots=shots)\n",
    "#   print( result.get_data(qc))\n",
    "    counts = job.result().get_counts()\n",
    "    print(counts)\n",
    "    return ((counts['0']/shots) - 0.5)*2"
   ]
  },
  {
   "cell_type": "code",
   "execution_count": 16,
   "metadata": {},
   "outputs": [],
   "source": [
    "def quantum_state_init(v1, v2):\n",
    "    v1_norm = np.linalg.norm(v1)\n",
    "    v2_norm = np.linalg.norm(v2)\n",
    "    Z = v1_norm**2 + v2_norm**2\n",
    "    q1_state = np.array([v1_norm, v2_norm]) * (1/np.sqrt(Z))\n",
    "    q2_state = np.hstack([calc_amplitudes(v1), calc_amplitudes(v2)]) * (1/np.sqrt(2))\n",
    "    return (q1_state, q2_state, Z)"
   ]
  },
  {
   "cell_type": "code",
   "execution_count": 17,
   "metadata": {},
   "outputs": [],
   "source": [
    "def calc_dist(overlap, Z):\n",
    "    return 2*Z*np.abs(overlap)**2"
   ]
  },
  {
   "cell_type": "code",
   "execution_count": 1,
   "metadata": {},
   "outputs": [],
   "source": [
    "# create oracle that flips amplitude of qubit corresponding to cluster number cluster_winner\n",
    "def create_cluster_oracle(cluster_winner):\n",
    "    qr = QuantumRegister(1, name=\"qr\")\n",
    "    qc = QuantumCircuit(qr, name=\"cluster_oracle\")\n",
    "    # if cluster idx == 0, make matrix [-1 0; 0 1], which corresponds to gate sequence XZX\n",
    "    if cluster_winner == 0:\n",
    "        qc.x(qr)\n",
    "        qc.z(qr)\n",
    "        qc.x(qr)\n",
    "        return qc\n",
    "    # if cluster idx == 1, make matrix [1 0; 0 -1], which corresponds to gate Z\n",
    "    elif cluster_winner == 1:\n",
    "        qc.z(qr)\n",
    "        return qc"
   ]
  },
  {
   "cell_type": "code",
   "execution_count": 2,
   "metadata": {},
   "outputs": [],
   "source": [
    "# create combined oracle for grover search\n",
    "def create_combined_oracle(distances):\n",
    "    # would actually be distances[0] * create_cluster_oracle(0) + distances[1] * create_cluster_oracle(1)\n",
    "    # to pick right oracle, but here looking directly at it\n",
    "    if distances[0]:\n",
    "        return create_cluster_oracle(0)\n",
    "    else:\n",
    "        return create_cluster_oracle(1)"
   ]
  },
  {
   "cell_type": "code",
   "execution_count": null,
   "metadata": {},
   "outputs": [],
   "source": [
    "# only need to pass in oracle, no inputs, since algo is applied to all possible inputs at once in any case\n",
    "def grover_search(oracle, qubits_n=2):\n",
    "    grover_circuit = QuantumCircuit(qubits_n)\n",
    "    # initialize all qubits to uniform amplitudes by applying Hadamard gate\n",
    "    for q in range(qubits_n):\n",
    "        qc.h(q)\n",
    "    "
   ]
  },
  {
   "cell_type": "markdown",
   "metadata": {},
   "source": [
    "## calculate this in a loop k times to get k distances to the k clusters"
   ]
  },
  {
   "cell_type": "code",
   "execution_count": 20,
   "metadata": {},
   "outputs": [
    {
     "name": "stdout",
     "output_type": "stream",
     "text": [
      "[0.67330033 0.7393691 ]\n",
      "[0.68599434 0.17149859 0.07808688 0.70278193]\n",
      "{'1': 351, '0': 673}\n"
     ]
    }
   ],
   "source": [
    "# load/initialize two training vectors on qubits 2-3 and 4-5\n",
    "q1_state, q2_state, Z = quantum_state_init(train1, train2)\n",
    "print(q1_state)\n",
    "print(q2_state)\n",
    "overlap = swap_test(q1_state, q2_state, draw=True)"
   ]
  },
  {
   "cell_type": "code",
   "execution_count": 21,
   "metadata": {},
   "outputs": [
    {
     "data": {
      "text/plain": [
       "0.314453125"
      ]
     },
     "execution_count": 21,
     "metadata": {},
     "output_type": "execute_result"
    }
   ],
   "source": [
    "overlap"
   ]
  },
  {
   "cell_type": "code",
   "execution_count": 22,
   "metadata": {},
   "outputs": [
    {
     "data": {
      "text/plain": [
       "0.296642303466797"
      ]
     },
     "execution_count": 22,
     "metadata": {},
     "output_type": "execute_result"
    }
   ],
   "source": [
    "distance = calc_dist(overlap, Z)\n",
    "distance"
   ]
  },
  {
   "cell_type": "code",
   "execution_count": 7,
   "metadata": {},
   "outputs": [
    {
     "data": {
      "text/html": [
       "<pre style=\"word-wrap: normal;white-space: pre;background: #fff0;line-height: 1.1;font-family: &quot;Courier New&quot;,Courier,monospace\">                                                       ░ ┌───┐      ┌───┐┌─┐\n",
       "qr_0: ─────────────────────────────────────────────────░─┤ H ├─■──■─┤ H ├┤M├\n",
       "               ┌────────────────────────────┐          ░ └───┘ │  │ └───┘└╥┘\n",
       "qr_1: ─────────┤ initialize(0.6733,0.73937) ├──────────░───────X──┼───────╫─\n",
       "               └────────────────────────────┘          ░       │  │       ║ \n",
       "qr_2: ─────────────────────────────────────────────────░───────┼──X───────╫─\n",
       "      ┌──────────────────────────────────────────────┐ ░       │  │       ║ \n",
       "qr_3: ┤0                                             ├─░───────X──┼───────╫─\n",
       "      │  initialize(0.68599,0.1715,0.078087,0.70278) │ ░          │       ║ \n",
       "qr_4: ┤1                                             ├─░──────────X───────╫─\n",
       "      └──────────────────────────────────────────────┘ ░                  ║ \n",
       "cr: 1/════════════════════════════════════════════════════════════════════╩═\n",
       "                                                                          0 </pre>"
      ],
      "text/plain": [
       "                                                       ░ ┌───┐      ┌───┐┌─┐\n",
       "qr_0: ─────────────────────────────────────────────────░─┤ H ├─■──■─┤ H ├┤M├\n",
       "               ┌────────────────────────────┐          ░ └───┘ │  │ └───┘└╥┘\n",
       "qr_1: ─────────┤ initialize(0.6733,0.73937) ├──────────░───────X──┼───────╫─\n",
       "               └────────────────────────────┘          ░       │  │       ║ \n",
       "qr_2: ─────────────────────────────────────────────────░───────┼──X───────╫─\n",
       "      ┌──────────────────────────────────────────────┐ ░       │  │       ║ \n",
       "qr_3: ┤0                                             ├─░───────X──┼───────╫─\n",
       "      │  initialize(0.68599,0.1715,0.078087,0.70278) │ ░          │       ║ \n",
       "qr_4: ┤1                                             ├─░──────────X───────╫─\n",
       "      └──────────────────────────────────────────────┘ ░                  ║ \n",
       "cr: 1/════════════════════════════════════════════════════════════════════╩═\n",
       "                                                                          0 "
      ]
     },
     "execution_count": 7,
     "metadata": {},
     "output_type": "execute_result"
    }
   ],
   "source": [
    "# build dummy circuit for drawing\n",
    "# create Quantum Register called \"qr\" with 5 qubits\n",
    "qr = QuantumRegister(5, name=\"qr\")\n",
    "# create Classical Register called \"cr\" with 5 bits\n",
    "cr = ClassicalRegister(1, name=\"cr\")\n",
    "# Creating Quantum Circuit called \"qc\" involving your Quantum Register \"qr\"\n",
    "# and your Classical Register \"cr\"\n",
    "qc = QuantumCircuit(qr, cr, name=\"swap_test\")\n",
    "\n",
    "# load data\n",
    "qc.initialize(q1_state, 1)\n",
    "# second qubit stays in |0> because second vector has only 1 qubit and the other is padding\n",
    "qc.initialize(q2_state, qr[3:5])\n",
    "#qc.initialize(v2_amp[2:3], 4)\n",
    "qc.barrier()\n",
    "\n",
    "# build swap test\n",
    "qc.h(qr[0])\n",
    "qc.cswap(qr[0], qr[1], qr[3])\n",
    "qc.cswap(qr[0], qr[2], qr[4])\n",
    "qc.h(qr[0])\n",
    "\n",
    "# measure\n",
    "qc.measure(qr[0], cr[0])\n",
    "qc.draw()\n"
   ]
  },
  {
   "cell_type": "code",
   "execution_count": null,
   "metadata": {},
   "outputs": [],
   "source": []
  }
 ],
 "metadata": {
  "kernelspec": {
   "display_name": "Python 3",
   "language": "python",
   "name": "python3"
  },
  "language_info": {
   "codemirror_mode": {
    "name": "ipython",
    "version": 3
   },
   "file_extension": ".py",
   "mimetype": "text/x-python",
   "name": "python",
   "nbconvert_exporter": "python",
   "pygments_lexer": "ipython3",
   "version": "3.6.9"
  }
 },
 "nbformat": 4,
 "nbformat_minor": 2
}
