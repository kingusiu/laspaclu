{
 "cells": [
  {
   "cell_type": "code",
   "execution_count": 35,
   "metadata": {},
   "outputs": [],
   "source": [
    "import numpy as np\n",
    "import importlib\n",
    "import util as uti\n",
    "import matplotlib.pyplot as plt\n",
    "importlib.reload(uti)\n",
    "\n",
    "# import math lib\n",
    "from math import pi\n",
    "\n",
    "# import Qiskit\n",
    "from qiskit import Aer, IBMQ, execute, assemble, transpile\n",
    "from qiskit import QuantumCircuit, ClassicalRegister, QuantumRegister\n",
    "from qiskit.circuit.library import GroverOperator\n",
    "\n",
    "# import basic plot tools\n",
    "#import qiskit.visualization as vis\n",
    "from qiskit.visualization import plot_histogram\n",
    "%matplotlib inline"
   ]
  },
  {
   "cell_type": "markdown",
   "metadata": {},
   "source": [
    "# input data"
   ]
  },
  {
   "cell_type": "code",
   "execution_count": 2,
   "metadata": {},
   "outputs": [],
   "source": [
    "train1 = np.array([0.8, 0.2])\n",
    "train2 = np.array([0.1, 0.9])\n",
    "test = np.array([0.2, 0.8])"
   ]
  },
  {
   "cell_type": "markdown",
   "metadata": {},
   "source": [
    "# quantum k-means with swap test"
   ]
  },
  {
   "cell_type": "code",
   "execution_count": 3,
   "metadata": {},
   "outputs": [],
   "source": [
    "def calc_amplitudes(v):\n",
    "    norm = np.linalg.norm(v)\n",
    "    return v/norm"
   ]
  },
  {
   "cell_type": "markdown",
   "metadata": {},
   "source": [
    "## swap test"
   ]
  },
  {
   "cell_type": "code",
   "execution_count": 4,
   "metadata": {},
   "outputs": [],
   "source": [
    "# routine that expresses overlap of v1 and v2\n",
    "def swap_test(v1_amp, v2_amp, draw=False):\n",
    "    \n",
    "    backend = Aer.get_backend('qasm_simulator')\n",
    "    # create Quantum Register called \"qr\" with 5 qubits (default state 0)\n",
    "    qr = QuantumRegister(5, name=\"qr\")\n",
    "    # create Classical Register called \"cr\" with 5 bits\n",
    "    cr = ClassicalRegister(1, name=\"cr\")\n",
    "    # Creating Quantum Circuit called \"qc\" involving your Quantum Register \"qr\"\n",
    "    # and your Classical Register \"cr\"\n",
    "    qc = QuantumCircuit(qr, cr, name=\"swap_test\")\n",
    "    \n",
    "    # load data\n",
    "    qc.initialize(v1_amp, 1)\n",
    "    # second qubit stays in |0> because second vector has only 1 qubit and the other is padding\n",
    "    qc.initialize(v2_amp, qr[3:5])\n",
    "    #qc.initialize(v2_amp[2:3], 4)\n",
    "    \n",
    "    # build swap test\n",
    "    qc.h(qr[0])\n",
    "    qc.cswap(qr[0], qr[1], qr[3])\n",
    "    qc.cswap(qr[0], qr[2], qr[4])\n",
    "    qc.h(qr[0])\n",
    "    \n",
    "    # measure\n",
    "    qc.measure(qr[0], cr[0])\n",
    "    if draw:\n",
    "        qc.draw()\n",
    "        \n",
    "    shots=1024    \n",
    "    job = execute(qc, backend=backend, shots=shots)\n",
    "#   print( result.get_data(qc))\n",
    "    counts = job.result().get_counts()\n",
    "    print(counts)\n",
    "    return ((counts['0']/shots) - 0.5)*2"
   ]
  },
  {
   "cell_type": "code",
   "execution_count": 30,
   "metadata": {},
   "outputs": [],
   "source": [
    "def quantum_state_init(v1, v2):\n",
    "    v1_norm = np.linalg.norm(v1)\n",
    "    v2_norm = np.linalg.norm(v2)\n",
    "    Z = v1_norm**2 + v2_norm**2\n",
    "    q1_state = np.array([v1_norm, v2_norm]) * (1/np.sqrt(Z))\n",
    "    q2_state = np.hstack([calc_amplitudes(v1), calc_amplitudes(v2)]) * (1/np.sqrt(2))\n",
    "    return (q1_state, q2_state, Z)"
   ]
  },
  {
   "cell_type": "code",
   "execution_count": 31,
   "metadata": {},
   "outputs": [],
   "source": [
    "def calc_dist(overlap, Z):\n",
    "    return 2*Z*np.abs(overlap)**2"
   ]
  },
  {
   "cell_type": "code",
   "execution_count": 45,
   "metadata": {},
   "outputs": [],
   "source": [
    "def create_cluster_oracle_1qb(qc, cluster_winner):\n",
    "# if cluster idx == 0, make matrix [-1 0; 0 1], which corresponds to gate sequence XZX\n",
    "    if cluster_winner == 0:\n",
    "        qc.x(0)\n",
    "        qc.z(0)\n",
    "        #qc.x(0)\n",
    "        return qc\n",
    "    # if cluster idx == 1, make matrix [1 0; 0 -1], which corresponds to gate Z\n",
    "    elif cluster_winner == 1:\n",
    "        qc.z(0)\n",
    "        return qc"
   ]
  },
  {
   "cell_type": "code",
   "execution_count": null,
   "metadata": {},
   "outputs": [],
   "source": [
    "def create_cluster_oracle_2qb(qc, qr, cluster_winner):\n",
    "    pass"
   ]
  },
  {
   "cell_type": "code",
   "execution_count": 2,
   "metadata": {},
   "outputs": [],
   "source": [
    "# create oracle that flips amplitude of qubit corresponding to cluster number cluster_winner\n",
    "def create_cluster_oracle(qc, qr, cluster_winner):\n",
    "    if len(qr) == 1:\n",
    "        return create_cluster_oracle_1qb(qc, cluster_winner)\n",
    "    elif len(qr) == 2:\n",
    "        return create_cluster_oracle_2qb(qc, qr, cluster_winner)\n",
    "    else:\n",
    "        print('oracles only implemented for 1 and 2 qubit systems')"
   ]
  },
  {
   "cell_type": "code",
   "execution_count": 33,
   "metadata": {},
   "outputs": [],
   "source": [
    "# create combined oracle for grover search\n",
    "def create_combined_oracle(distances):\n",
    "    # would actually be delta(distances[0]-1) * create_cluster_oracle(0) + delta(distances[1]-1) * create_cluster_oracle(1)\n",
    "    # to pick right oracle, but here looking directly at it\n",
    "    if distances[0]:\n",
    "        return create_cluster_oracle(0)\n",
    "    else:\n",
    "        return create_cluster_oracle(1)"
   ]
  },
  {
   "cell_type": "code",
   "execution_count": 13,
   "metadata": {},
   "outputs": [],
   "source": [
    "def inversion_around_mean(qc, qr):\n",
    "    # transform |s> back to |0> with hadamard gate (since |s> = H|0>)\n",
    "    qc.h(qr)\n",
    "    # add negative phase to all states orthogonal to |0> (which corresponds to inverting |1>) by [1 0; 0 -1], i.e. the Z gate \n",
    "    qc.z(qr)\n",
    "    # transform back to |s>\n",
    "    qc.h(qr)"
   ]
  },
  {
   "cell_type": "code",
   "execution_count": 35,
   "metadata": {},
   "outputs": [],
   "source": [
    "# only need to pass in oracle, no inputs, since algo is applied to all possible inputs at once in any case\n",
    "def grover_search(oracle, qubits_n=2):\n",
    "    grover_circuit = QuantumCircuit(qubits_n)\n",
    "    # initialize all qubits to uniform amplitudes by applying Hadamard gate\n",
    "    for q in range(qubits_n):\n",
    "        qc.h(q)\n",
    "    "
   ]
  },
  {
   "cell_type": "code",
   "execution_count": 50,
   "metadata": {},
   "outputs": [],
   "source": [
    "def closest_cluster_idx_circuit(cluster_winner):\n",
    "    oracle = QuantumCircuit(1)\n",
    "    create_cluster_oracle_1qb(oracle, cluster_winner)\n",
    "    grover_op = GroverOperator(oracle, insert_barriers=True)\n",
    "    return grover_op"
   ]
  },
  {
   "cell_type": "code",
   "execution_count": 52,
   "metadata": {},
   "outputs": [],
   "source": [
    "cluster_winner = 0\n",
    "grover_op = closest_cluster_idx_circuit(cluster_winner)"
   ]
  },
  {
   "cell_type": "code",
   "execution_count": 53,
   "metadata": {},
   "outputs": [
    {
     "data": {
      "text/latex": [
       "$\\displaystyle \n",
       "$$ |\\psi\\rangle =\\begin{bmatrix}\n",
       "0 \\\\\n",
       "1\\end{bmatrix} $"
      ],
      "text/plain": [
       "<IPython.core.display.Math object>"
      ]
     },
     "metadata": {},
     "output_type": "display_data"
    }
   ],
   "source": [
    "# get state vector after grover search\n",
    "backend = Aer.get_backend('statevector_simulator')\n",
    "qobj = assemble(grover_op)\n",
    "result = backend.run(qobj).result()\n",
    "statevec = result.get_statevector()\n",
    "from qiskit_textbook.tools import vector2latex\n",
    "vector2latex(statevec, pretext=\"|\\\\psi\\\\rangle =\")"
   ]
  },
  {
   "cell_type": "code",
   "execution_count": 54,
   "metadata": {},
   "outputs": [
    {
     "data": {
      "image/png": "[encoded data removed]",
      "text/plain": [
       "<Figure size 504x360 with 1 Axes>"
      ]
     },
     "execution_count": 54,
     "metadata": {},
     "output_type": "execute_result"
    }
   ],
   "source": [
    "# run actual experiment and measure output\n",
    "grover_op.measure_all()\n",
    "\n",
    "qasm_sim = Aer.get_backend('qasm_simulator')\n",
    "qobj = assemble(grover_op)\n",
    "result = qasm_sim.run(qobj).result()\n",
    "counts = result.get_counts()\n",
    "plot_histogram(counts)"
   ]
  },
  {
   "cell_type": "code",
   "execution_count": 48,
   "metadata": {},
   "outputs": [
    {
     "data": {
      "text/html": [
       "<pre style=\"word-wrap: normal;white-space: pre;background: #fff0;line-height: 1.1;font-family: &quot;Courier New&quot;,Courier,monospace\">global phase: π\n",
       "         ┌───┐ ░ ┌───┐ ░ ┌───┐┌───┐┌───┐ ░ ┌───┐\n",
       "state_0: ┤ Z ├─░─┤ H ├─░─┤ X ├┤ Z ├┤ X ├─░─┤ H ├\n",
       "         └───┘ ░ └───┘ ░ └───┘└───┘└───┘ ░ └───┘</pre>"
      ],
      "text/plain": [
       "global phase: π\n",
       "         ┌───┐ ░ ┌───┐ ░ ┌───┐┌───┐┌───┐ ░ ┌───┐\n",
       "state_0: ┤ Z ├─░─┤ H ├─░─┤ X ├┤ Z ├┤ X ├─░─┤ H ├\n",
       "         └───┘ ░ └───┘ ░ └───┘└───┘└───┘ ░ └───┘"
      ]
     },
     "execution_count": 48,
     "metadata": {},
     "output_type": "execute_result"
    }
   ],
   "source": [
    "cluster_winner = 1\n",
    "oracle = QuantumCircuit(1)\n",
    "create_cluster_oracle_1qb(oracle, cluster_winner)\n",
    "grover_op = GroverOperator(oracle, insert_barriers=True)\n",
    "grover_op.draw()"
   ]
  },
  {
   "cell_type": "code",
   "execution_count": 49,
   "metadata": {},
   "outputs": [
    {
     "data": {
      "image/png": "[encoded data removed]",
      "text/plain": [
       "<Figure size 504x360 with 1 Axes>"
      ]
     },
     "execution_count": 49,
     "metadata": {},
     "output_type": "execute_result"
    }
   ],
   "source": [
    "grover_op.measure_all()\n",
    "\n",
    "qasm_sim = Aer.get_backend('qasm_simulator')\n",
    "qobj = assemble(grover_op)\n",
    "result = qasm_sim.run(qobj).result()\n",
    "counts = result.get_counts()\n",
    "plot_histogram(counts)"
   ]
  },
  {
   "cell_type": "code",
   "execution_count": 33,
   "metadata": {},
   "outputs": [
    {
     "data": {
      "text/html": [
       "<pre style=\"word-wrap: normal;white-space: pre;background: #fff0;line-height: 1.1;font-family: &quot;Courier New&quot;,Courier,monospace\">      ┌───┐ ░ ┌───┐┌───┐┌───┐ ░ ┌───┐┌───┐┌───┐ ░ ┌───┐\n",
       "qr_0: ┤ H ├─░─┤ X ├┤ Z ├┤ X ├─░─┤ X ├┤ Z ├┤ X ├─░─┤ H ├\n",
       "      └───┘ ░ └───┘└───┘└───┘ ░ └───┘└───┘└───┘ ░ └───┘</pre>"
      ],
      "text/plain": [
       "      ┌───┐ ░ ┌───┐┌───┐┌───┐ ░ ┌───┐┌───┐┌───┐ ░ ┌───┐\n",
       "qr_0: ┤ H ├─░─┤ X ├┤ Z ├┤ X ├─░─┤ X ├┤ Z ├┤ X ├─░─┤ H ├\n",
       "      └───┘ ░ └───┘└───┘└───┘ ░ └───┘└───┘└───┘ ░ └───┘"
      ]
     },
     "execution_count": 33,
     "metadata": {},
     "output_type": "execute_result"
    }
   ],
   "source": [
    "# do grover search on 1 qubit system (2 cluster)\n",
    "cluster_winner = 0\n",
    "qr = QuantumRegister(1, name=\"qr\") # 1 qubit |0> state\n",
    "qc = QuantumCircuit(qr, name=\"grover_search\")\n",
    "# apply hadamard gate to get equal amplitues for cluster 1 and 2\n",
    "qc.h(qr)\n",
    "qc.barrier()\n",
    "# apply quantum oracle\n",
    "create_cluster_oracle(qc, cluster_winner)\n",
    "qc.barrier()\n",
    "# reflection around mean\n",
    "inversion_around_mean(qc, qr)\n",
    "qc.barrier()\n",
    "# apply hadamard gate to get equal amplitues for cluster 1 and 2\n",
    "qc.h(qr)\n",
    "qc.draw()"
   ]
  },
  {
   "cell_type": "code",
   "execution_count": 34,
   "metadata": {},
   "outputs": [
    {
     "data": {
      "text/latex": [
       "$\\displaystyle \n",
       "$$ |\\psi\\rangle =\\begin{bmatrix}\n",
       "1 \\\\\n",
       "0\\end{bmatrix} $"
      ],
      "text/plain": [
       "<IPython.core.display.Math object>"
      ]
     },
     "metadata": {},
     "output_type": "display_data"
    }
   ],
   "source": [
    "# run the circuit and output result state vector\n",
    "backend = Aer.get_backend('statevector_simulator')\n",
    "qobj = assemble(qc)\n",
    "result = backend.run(qobj).result()\n",
    "statevec = result.get_statevector()\n",
    "from qiskit_textbook.tools import vector2latex\n",
    "vector2latex(statevec, pretext=\"|\\\\psi\\\\rangle =\")"
   ]
  },
  {
   "cell_type": "code",
   "execution_count": null,
   "metadata": {},
   "outputs": [],
   "source": []
  },
  {
   "cell_type": "code",
   "execution_count": 31,
   "metadata": {},
   "outputs": [
    {
     "data": {
      "text/latex": [
       "$\\displaystyle \n",
       "$$ |\\psi\\rangle =\\begin{bmatrix}\n",
       "0.70711 \\\\\n",
       "0.70711\\end{bmatrix} $"
      ],
      "text/plain": [
       "<IPython.core.display.Math object>"
      ]
     },
     "metadata": {},
     "output_type": "display_data"
    }
   ],
   "source": [
    "# run the circuit and output result state vector\n",
    "backend = Aer.get_backend('statevector_simulator')\n",
    "qobj = assemble(qc)\n",
    "result = backend.run(qobj).result()\n",
    "statevec = result.get_statevector()\n",
    "from qiskit_textbook.tools import vector2latex\n",
    "vector2latex(statevec, pretext=\"|\\\\psi\\\\rangle =\")"
   ]
  },
  {
   "cell_type": "code",
   "execution_count": 32,
   "metadata": {},
   "outputs": [
    {
     "data": {
      "image/png": "[encoded data removed]",
      "text/plain": [
       "<Figure size 504x360 with 1 Axes>"
      ]
     },
     "execution_count": 32,
     "metadata": {},
     "output_type": "execute_result"
    }
   ],
   "source": [
    "qc.measure_all()\n",
    "\n",
    "qasm_sim = Aer.get_backend('qasm_simulator')\n",
    "qobj = assemble(grover_op)\n",
    "result = qasm_sim.run(qobj).result()\n",
    "counts = result.get_counts()\n",
    "plot_histogram(counts)"
   ]
  },
  {
   "cell_type": "markdown",
   "metadata": {},
   "source": [
    "## calculate this in a loop k times to get k distances to the k clusters"
   ]
  },
  {
   "cell_type": "code",
   "execution_count": 20,
   "metadata": {},
   "outputs": [
    {
     "name": "stdout",
     "output_type": "stream",
     "text": [
      "[0.67330033 0.7393691 ]\n",
      "[0.68599434 0.17149859 0.07808688 0.70278193]\n",
      "{'1': 351, '0': 673}\n"
     ]
    }
   ],
   "source": [
    "# load/initialize two training vectors on qubits 2-3 and 4-5\n",
    "q1_state, q2_state, Z = quantum_state_init(train1, train2)\n",
    "print(q1_state)\n",
    "print(q2_state)\n",
    "overlap = swap_test(q1_state, q2_state, draw=True)"
   ]
  },
  {
   "cell_type": "code",
   "execution_count": 21,
   "metadata": {},
   "outputs": [
    {
     "data": {
      "text/plain": [
       "0.314453125"
      ]
     },
     "execution_count": 21,
     "metadata": {},
     "output_type": "execute_result"
    }
   ],
   "source": [
    "overlap"
   ]
  },
  {
   "cell_type": "code",
   "execution_count": 22,
   "metadata": {},
   "outputs": [
    {
     "data": {
      "text/plain": [
       "0.296642303466797"
      ]
     },
     "execution_count": 22,
     "metadata": {},
     "output_type": "execute_result"
    }
   ],
   "source": [
    "distance = calc_dist(overlap, Z)\n",
    "distance"
   ]
  },
  {
   "cell_type": "code",
   "execution_count": 7,
   "metadata": {},
   "outputs": [
    {
     "data": {
      "text/html": [
       "<pre style=\"word-wrap: normal;white-space: pre;background: #fff0;line-height: 1.1;font-family: &quot;Courier New&quot;,Courier,monospace\">                                                       ░ ┌───┐      ┌───┐┌─┐\n",
       "qr_0: ─────────────────────────────────────────────────░─┤ H ├─■──■─┤ H ├┤M├\n",
       "               ┌────────────────────────────┐          ░ └───┘ │  │ └───┘└╥┘\n",
       "qr_1: ─────────┤ initialize(0.6733,0.73937) ├──────────░───────X──┼───────╫─\n",
       "               └────────────────────────────┘          ░       │  │       ║ \n",
       "qr_2: ─────────────────────────────────────────────────░───────┼──X───────╫─\n",
       "      ┌──────────────────────────────────────────────┐ ░       │  │       ║ \n",
       "qr_3: ┤0                                             ├─░───────X──┼───────╫─\n",
       "      │  initialize(0.68599,0.1715,0.078087,0.70278) │ ░          │       ║ \n",
       "qr_4: ┤1                                             ├─░──────────X───────╫─\n",
       "      └──────────────────────────────────────────────┘ ░                  ║ \n",
       "cr: 1/════════════════════════════════════════════════════════════════════╩═\n",
       "                                                                          0 </pre>"
      ],
      "text/plain": [
       "                                                       ░ ┌───┐      ┌───┐┌─┐\n",
       "qr_0: ─────────────────────────────────────────────────░─┤ H ├─■──■─┤ H ├┤M├\n",
       "               ┌────────────────────────────┐          ░ └───┘ │  │ └───┘└╥┘\n",
       "qr_1: ─────────┤ initialize(0.6733,0.73937) ├──────────░───────X──┼───────╫─\n",
       "               └────────────────────────────┘          ░       │  │       ║ \n",
       "qr_2: ─────────────────────────────────────────────────░───────┼──X───────╫─\n",
       "      ┌──────────────────────────────────────────────┐ ░       │  │       ║ \n",
       "qr_3: ┤0                                             ├─░───────X──┼───────╫─\n",
       "      │  initialize(0.68599,0.1715,0.078087,0.70278) │ ░          │       ║ \n",
       "qr_4: ┤1                                             ├─░──────────X───────╫─\n",
       "      └──────────────────────────────────────────────┘ ░                  ║ \n",
       "cr: 1/════════════════════════════════════════════════════════════════════╩═\n",
       "                                                                          0 "
      ]
     },
     "execution_count": 7,
     "metadata": {},
     "output_type": "execute_result"
    }
   ],
   "source": [
    "# build dummy circuit for drawing\n",
    "# create Quantum Register called \"qr\" with 5 qubits\n",
    "qr = QuantumRegister(5, name=\"qr\")\n",
    "# create Classical Register called \"cr\" with 5 bits\n",
    "cr = ClassicalRegister(1, name=\"cr\")\n",
    "# Creating Quantum Circuit called \"qc\" involving your Quantum Register \"qr\"\n",
    "# and your Classical Register \"cr\"\n",
    "qc = QuantumCircuit(qr, cr, name=\"swap_test\")\n",
    "\n",
    "# load data\n",
    "qc.initialize(q1_state, 1)\n",
    "# second qubit stays in |0> because second vector has only 1 qubit and the other is padding\n",
    "qc.initialize(q2_state, qr[3:5])\n",
    "#qc.initialize(v2_amp[2:3], 4)\n",
    "qc.barrier()\n",
    "\n",
    "# build swap test\n",
    "qc.h(qr[0])\n",
    "qc.cswap(qr[0], qr[1], qr[3])\n",
    "qc.cswap(qr[0], qr[2], qr[4])\n",
    "qc.h(qr[0])\n",
    "\n",
    "# measure\n",
    "qc.measure(qr[0], cr[0])\n",
    "qc.draw()\n"
   ]
  },
  {
   "cell_type": "code",
   "execution_count": null,
   "metadata": {},
   "outputs": [],
   "source": []
  }
 ],
 "metadata": {
  "kernelspec": {
   "display_name": "Python 3",
   "language": "python",
   "name": "python3"
  },
  "language_info": {
   "codemirror_mode": {
    "name": "ipython",
    "version": 3
   },
   "file_extension": ".py",
   "mimetype": "text/x-python",
   "name": "python",
   "nbconvert_exporter": "python",
   "pygments_lexer": "ipython3",
   "version": "3.6.9"
  }
 },
 "nbformat": 4,
 "nbformat_minor": 2
}
