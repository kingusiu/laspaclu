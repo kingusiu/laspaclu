{
 "cells": [
  {
   "cell_type": "code",
   "execution_count": 1,
   "metadata": {},
   "outputs": [
    {
     "name": "stderr",
     "output_type": "stream",
     "text": [
      "/home/kinga/.local/lib/python3.6/site-packages/qiskit/__init__.py:66: DeprecationWarning: Using Qiskit with Python 3.6 is deprecated as of qiskit-terra 0.17.0. Support for running Qiskit with Python 3.6 will be removed in qiskit-terra 0.20.0.\n",
      "  DeprecationWarning,\n"
     ]
    }
   ],
   "source": [
    "import matplotlib.pyplot as plt\n",
    "import numpy as np\n",
    "from math import pi\n",
    "import math\n",
    "%matplotlib inline\n",
    "%config InlineBackend.figure_format = 'svg'\n",
    "\n",
    "from qiskit import IBMQ, Aer, BasicAer, QuantumCircuit, ClassicalRegister, QuantumRegister, execute\n",
    "from qiskit.providers.ibmq import least_busy\n",
    "from qiskit.quantum_info import state_fidelity\n",
    "from qiskit.tools.visualization import circuit_drawer\n",
    "from qiskit.circuit.library.generalized_gates.mcmt import MCMT\n",
    "from qiskit.circuit.library.standard_gates.x import XGate, HGate\n",
    "from qiskit.circuit.library import ZGate\n",
    "from qiskit.visualization import plot_histogram"
   ]
  },
  {
   "cell_type": "code",
   "execution_count": 2,
   "metadata": {},
   "outputs": [],
   "source": [
    "def AndOracle(given_circuit, nn, target_qubit):\n",
    "    \n",
    "    ''' and-oracle: checks if all qubits are |1>\n",
    "        source: github.com/jianzhi-1/qiskit_advo\n",
    "    '''\n",
    "    \n",
    "    given_circuit.barrier()\n",
    "    controlled_xgate = XGate().control(nn)\n",
    "    curlist = list(range(0, nn))\n",
    "    curlist.append(target_qubit)\n",
    "    given_circuit.append(controlled_xgate, curlist)\n",
    "    given_circuit.barrier()"
   ]
  },
  {
   "cell_type": "code",
   "execution_count": null,
   "metadata": {},
   "outputs": [],
   "source": [
    "def ControlledOnIntOracle(given_circuit, nn, target_qubit, x, reverse=False):\n",
    "    \n",
    "    ''' controlled on int oracle: checks if quantum register represents binary encoded integer x\n",
    "        source: github.com/jianzhi-1/qiskit_advo\n",
    "    '''\n",
    "    \n",
    "    if (x != 0 and nn < int(math.floor(math.log2(x) + 1))):\n",
    "        print(\"Not enough qubits to do ControlledOnIntOracle\\n\")\n",
    "        return\n",
    "    \n",
    "    given_circuit.barrier()\n",
    "    xx = x\n",
    "    counter = 0\n",
    "    for i in range(nn):\n",
    "        if (xx%2 == 0):\n",
    "            given_circuit.x(counter)\n",
    "        xx = (xx - (xx%2))/2\n",
    "        counter = counter + 1\n",
    "    AndOracle(given_circuit, nn, target_qubit)\n",
    "    \n",
    "    xx = x\n",
    "    counter = 0\n",
    "    for i in range(nn):\n",
    "        if (xx%2 == 0):\n",
    "            given_circuit.x(counter)\n",
    "        xx = (xx - (xx%2))/2\n",
    "        counter = counter + 1\n",
    "    given_circuit.barrier()"
   ]
  }
 ],
 "metadata": {
  "kernelspec": {
   "display_name": "Python 3",
   "language": "python",
   "name": "python3"
  },
  "language_info": {
   "codemirror_mode": {
    "name": "ipython",
    "version": 3
   },
   "file_extension": ".py",
   "mimetype": "text/x-python",
   "name": "python",
   "nbconvert_exporter": "python",
   "pygments_lexer": "ipython3",
   "version": "3.6.9"
  }
 },
 "nbformat": 4,
 "nbformat_minor": 2
}
