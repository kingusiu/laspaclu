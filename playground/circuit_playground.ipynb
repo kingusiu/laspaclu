{
 "cells": [
  {
   "cell_type": "code",
   "execution_count": 5,
   "metadata": {},
   "outputs": [],
   "source": [
    "#initialization\n",
    "import matplotlib.pyplot as plt\n",
    "import numpy as np\n",
    "\n",
    "# importing Qiskit\n",
    "from qiskit import IBMQ, Aer, assemble, transpile, execute\n",
    "from qiskit import QuantumCircuit, ClassicalRegister, QuantumRegister\n",
    "from qiskit.providers.ibmq import least_busy\n",
    "\n",
    "# import basic plot tools\n",
    "from qiskit.visualization import plot_histogram"
   ]
  },
  {
   "cell_type": "markdown",
   "metadata": {},
   "source": [
    "# Parity check circuit"
   ]
  },
  {
   "cell_type": "code",
   "execution_count": 16,
   "metadata": {},
   "outputs": [],
   "source": [
    "# sets target qubit to state 1 depending on parity score (odd/even number of 1s) in input\n",
    "def parity_circuit(n=3):\n",
    "    qc = QuantumCircuit(n+1)\n",
    "    for qubit in range(n):\n",
    "        qc.cx(qubit,n)\n",
    "    print(qc.draw())\n",
    "    return qc"
   ]
  },
  {
   "cell_type": "code",
   "execution_count": 31,
   "metadata": {},
   "outputs": [],
   "source": [
    "def test_circuit(n=3, init_state='000'):\n",
    "    qc_test = QuantumCircuit(n+1,1)\n",
    "    \n",
    "    # turn all indicated qubits to\n",
    "    for q,s in enumerate(init_state):\n",
    "        if s == '1': # 1 by x gate if s = 1\n",
    "            qc_test.x(q)\n",
    "        elif s == '2': # superposition by hadamard gate if s = 2\n",
    "            qc_test.h(q)\n",
    "    \n",
    "    qc_parity = parity_circuit(n)\n",
    "    qc_test.append(qc_parity, range(n+1))\n",
    "    # measure last qubit\n",
    "    qc_test.measure(n,0)\n",
    "    return qc_test"
   ]
  },
  {
   "cell_type": "code",
   "execution_count": 46,
   "metadata": {},
   "outputs": [
    {
     "name": "stdout",
     "output_type": "stream",
     "text": [
      "                    \n",
      "q_0: ──■────────────\n",
      "       │            \n",
      "q_1: ──┼────■───────\n",
      "       │    │       \n",
      "q_2: ──┼────┼────■──\n",
      "     ┌─┴─┐┌─┴─┐┌─┴─┐\n",
      "q_3: ┤ X ├┤ X ├┤ X ├\n",
      "     └───┘└───┘└───┘\n"
     ]
    },
    {
     "data": {
      "text/html": [
       "<pre style=\"word-wrap: normal;white-space: pre;background: #fff0;line-height: 1.1;font-family: &quot;Courier New&quot;,Courier,monospace\">     ┌───┐┌──────────────┐   \n",
       "q_0: ┤ H ├┤0             ├───\n",
       "     ├───┤│              │   \n",
       "q_1: ┤ H ├┤1             ├───\n",
       "     ├───┤│  circuit-588 │   \n",
       "q_2: ┤ H ├┤2             ├───\n",
       "     └───┘│              │┌─┐\n",
       "q_3: ─────┤3             ├┤M├\n",
       "          └──────────────┘└╥┘\n",
       "c: 1/══════════════════════╩═\n",
       "                           0 </pre>"
      ],
      "text/plain": [
       "     ┌───┐┌──────────────┐   \n",
       "q_0: ┤ H ├┤0             ├───\n",
       "     ├───┤│              │   \n",
       "q_1: ┤ H ├┤1             ├───\n",
       "     ├───┤│  circuit-588 │   \n",
       "q_2: ┤ H ├┤2             ├───\n",
       "     └───┘│              │┌─┐\n",
       "q_3: ─────┤3             ├┤M├\n",
       "          └──────────────┘└╥┘\n",
       "c: 1/══════════════════════╩═\n",
       "                           0 "
      ]
     },
     "execution_count": 46,
     "metadata": {},
     "output_type": "execute_result"
    }
   ],
   "source": [
    "n = 3\n",
    "init_state='222'\n",
    "qc_test = test_circuit(n, init_state)\n",
    "qc_test.draw()"
   ]
  },
  {
   "cell_type": "markdown",
   "metadata": {},
   "source": [
    "## run parity counting experiment"
   ]
  },
  {
   "cell_type": "code",
   "execution_count": 53,
   "metadata": {},
   "outputs": [
    {
     "data": {
      "image/png": "[encoded data removed]",
      "text/plain": [
       "<Figure size 504x360 with 1 Axes>"
      ]
     },
     "execution_count": 53,
     "metadata": {},
     "output_type": "execute_result"
    }
   ],
   "source": [
    "simulator = Aer.get_backend('qasm_simulator')\n",
    "shots = 1000 # setting to 1 will give random result if init_state contains '2's\n",
    "counts = execute(qc_test, backend=simulator, shots=shots).result().get_counts(qc_test)\n",
    "from qiskit.visualization import plot_histogram\n",
    "plot_histogram(counts)"
   ]
  },
  {
   "cell_type": "code",
   "execution_count": 54,
   "metadata": {},
   "outputs": [
    {
     "name": "stdout",
     "output_type": "stream",
     "text": [
      "Results:\n",
      "    0    1\n",
      "0  0  475\n",
      "1  1  525\n"
     ]
    }
   ],
   "source": [
    "# process\n",
    "import pandas as pd\n",
    "answers = pd.DataFrame.from_dict(counts.items())\n",
    "print(\"Results:\\n\",answers)"
   ]
  },
  {
   "cell_type": "code",
   "execution_count": 55,
   "metadata": {},
   "outputs": [
    {
     "data": {
      "text/plain": [
       "{'0': 475, '1': 525}"
      ]
     },
     "execution_count": 55,
     "metadata": {},
     "output_type": "execute_result"
    }
   ],
   "source": [
    "counts"
   ]
  },
  {
   "cell_type": "code",
   "execution_count": null,
   "metadata": {},
   "outputs": [],
   "source": []
  }
 ],
 "metadata": {
  "kernelspec": {
   "display_name": "Python 3",
   "language": "python",
   "name": "python3"
  },
  "language_info": {
   "codemirror_mode": {
    "name": "ipython",
    "version": 3
   },
   "file_extension": ".py",
   "mimetype": "text/x-python",
   "name": "python",
   "nbconvert_exporter": "python",
   "pygments_lexer": "ipython3",
   "version": "3.6.9"
  }
 },
 "nbformat": 4,
 "nbformat_minor": 2
}
