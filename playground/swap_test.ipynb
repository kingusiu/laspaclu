{
 "cells": [
  {
   "cell_type": "code",
   "execution_count": 1,
   "metadata": {},
   "outputs": [
    {
     "name": "stderr",
     "output_type": "stream",
     "text": [
      "/home/kinga/.local/lib/python3.6/site-packages/qiskit/__init__.py:66: DeprecationWarning: Using Qiskit with Python 3.6 is deprecated as of qiskit-terra 0.17.0. Support for running Qiskit with Python 3.6 will be removed in qiskit-terra 0.20.0.\n",
      "  DeprecationWarning,\n"
     ]
    }
   ],
   "source": [
    "import numpy as np\n",
    "import importlib\n",
    "import util as uti\n",
    "import matplotlib.pyplot as plt\n",
    "importlib.reload(uti)\n",
    "\n",
    "# import math lib\n",
    "from math import pi\n",
    "\n",
    "# import Qiskit\n",
    "from qiskit import Aer, IBMQ, execute, assemble, transpile\n",
    "from qiskit import QuantumCircuit, ClassicalRegister, QuantumRegister\n",
    "from qiskit.circuit.library import GroverOperator\n",
    "from qiskit_machine_learning.circuit.library import RawFeatureVector\n",
    "\n",
    "# import basic plot tools\n",
    "#import qiskit.visualization as vis\n",
    "from qiskit.visualization import plot_histogram\n",
    "%matplotlib inline"
   ]
  },
  {
   "cell_type": "markdown",
   "metadata": {},
   "source": [
    "# overlap calculation"
   ]
  },
  {
   "cell_type": "markdown",
   "metadata": {},
   "source": [
    "# state preparation"
   ]
  },
  {
   "cell_type": "code",
   "execution_count": 2,
   "metadata": {},
   "outputs": [],
   "source": [
    "def calc_amplitudes(v):\n",
    "    ''' amplitude encoding of raw input vector v '''\n",
    "    ''' TODO: compare with qiskit's RawFeatureVector '''\n",
    "    return v / np.linalg.norm(v)"
   ]
  },
  {
   "cell_type": "code",
   "execution_count": 3,
   "metadata": {},
   "outputs": [],
   "source": [
    "def prepare_swap_state_amplitudes(a, b):\n",
    "    \n",
    "    # normalize to unity\n",
    "    a_q = calc_amplitudes(a)\n",
    "    b_q = calc_amplitudes(b)\n",
    "    \n",
    "    # first state psi 1/sqrt(2) (|0,a> + \\1,b>) = R4\n",
    "    psi = np.hstack([a_q, b_q]) * (1/np.sqrt(2))\n",
    "    a_norm = np.linalg.norm(a)\n",
    "    b_norm = np.linalg.norm(b)\n",
    "    Z = a_norm**2 + b_norm**2\n",
    "    # second state phi with identity\n",
    "    phi = np.array([a_norm, -b_norm]) * (1/np.sqrt(Z))\n",
    "    \n",
    "    return psi, phi, Z"
   ]
  },
  {
   "cell_type": "markdown",
   "metadata": {},
   "source": [
    "# swap test"
   ]
  },
  {
   "cell_type": "code",
   "execution_count": 4,
   "metadata": {},
   "outputs": [],
   "source": [
    "# routine that expresses overlap of phi and psi <phi|psi>\n",
    "def swap_test_circuit(phi_amp, psi_amp):\n",
    "    \n",
    "    n = 1 + 2 + 1 # 1 control qubit + 2 qubits for input vectors + 1 qubit for check vector\n",
    "    qc = QuantumCircuit(n, 1, name=\"swap_test\")\n",
    "    \n",
    "    # first control qubit in default |0> (position 3)\n",
    "    #|001> -> plot\n",
    "    #qc.x(0)\n",
    "    # load data\n",
    "    qc.initialize(phi_amp, 2) # second qubit = 1/sqrt(Z) * (|a||0> + |b||1> )\n",
    "    qc.initialize(psi_amp, [0,1]) # third & fourth qubit = 1/sqrt(2) * (|0,a> + |1,b>)\n",
    "    \n",
    "    \n",
    "    # build swap test\n",
    "    qc.h(3)\n",
    "    qc.cswap(2, 1, 3) # perform test on v1 ancilla alone\n",
    "    qc.h(3)\n",
    "    \n",
    "    return qc"
   ]
  },
  {
   "cell_type": "code",
   "execution_count": 5,
   "metadata": {},
   "outputs": [],
   "source": [
    "def swap_test(phi_amp, psi_amp, mode='qasm'):\n",
    "    # build circuit\n",
    "    qc = swap_test_circuit(phi_amp, psi_amp)\n",
    "    \n",
    "    # if mode 'qasm' run in quantum simulator mode (noisy)\n",
    "    if mode == 'qasm':\n",
    "        backend = Aer.get_backend('qasm_simulator')\n",
    "        qc.measure(3,0)\n",
    "        shots = 1024\n",
    "        qobj = assemble(qc, backend)\n",
    "        result = backend.run(qobj).result()\n",
    "        answer = result.get_counts()\n",
    "\n",
    "    # otherwise run in pure statevector mode\n",
    "    else:\n",
    "        backend = Aer.get_backend('statevector_simulator')\n",
    "        qc.save_statevector()\n",
    "        qc = transpile(qc, backend)\n",
    "        result = backend.run(qc).result()\n",
    "        answer = result.get_statevector()\n",
    "\n",
    "    return qc, answer"
   ]
  },
  {
   "cell_type": "markdown",
   "metadata": {},
   "source": [
    "# input data"
   ]
  },
  {
   "cell_type": "code",
   "execution_count": 6,
   "metadata": {},
   "outputs": [],
   "source": [
    "a = np.array([10., 1])\n",
    "b = np.array([-2., 40])"
   ]
  },
  {
   "cell_type": "code",
   "execution_count": 7,
   "metadata": {},
   "outputs": [],
   "source": [
    "psi, phi, Z = prepare_swap_state_amplitudes(a, b)"
   ]
  },
  {
   "cell_type": "code",
   "execution_count": 8,
   "metadata": {},
   "outputs": [
    {
     "name": "stdout",
     "output_type": "stream",
     "text": [
      "[ 0.70359754  0.07035975 -0.03531123  0.70622455]\n",
      "[ 0.24338763 -0.9699291 ]\n",
      "1705.0000000000002\n"
     ]
    }
   ],
   "source": [
    "print(psi)\n",
    "print(phi)\n",
    "print(Z)"
   ]
  },
  {
   "cell_type": "code",
   "execution_count": 9,
   "metadata": {},
   "outputs": [
    {
     "name": "stdout",
     "output_type": "stream",
     "text": [
      "n  4\n"
     ]
    },
    {
     "data": {
      "text/html": [
       "<pre style=\"word-wrap: normal;white-space: pre;background: #fff0;line-height: 1.1;font-family: &quot;Courier New&quot;,Courier,monospace\">                                                       ░ ┌───┐   ┌───┐┌─┐\n",
       "q_0: ──────────────────────────────────────────────────░─┤ H ├─■─┤ H ├┤M├\n",
       "     ┌───────────────────────────────────────────────┐ ░ └───┘ │ └───┘└╥┘\n",
       "q_1: ┤0                                              ├─░───────X───────╫─\n",
       "     │  Initialize(0.7036,0.07036,-0.035311,0.70622) │ ░       │       ║ \n",
       "q_2: ┤1                                              ├─░───────┼───────╫─\n",
       "     └────────┬──────────────────────────────┬───────┘ ░       │       ║ \n",
       "q_3: ─────────┤ Initialize(0.24339,-0.96993) ├─────────░───────X───────╫─\n",
       "              └──────────────────────────────┘         ░               ║ \n",
       "c: 1/══════════════════════════════════════════════════════════════════╩═\n",
       "                                                                       0 </pre>"
      ],
      "text/plain": [
       "                                                       ░ ┌───┐   ┌───┐┌─┐\n",
       "q_0: ──────────────────────────────────────────────────░─┤ H ├─■─┤ H ├┤M├\n",
       "     ┌───────────────────────────────────────────────┐ ░ └───┘ │ └───┘└╥┘\n",
       "q_1: ┤0                                              ├─░───────X───────╫─\n",
       "     │  Initialize(0.7036,0.07036,-0.035311,0.70622) │ ░       │       ║ \n",
       "q_2: ┤1                                              ├─░───────┼───────╫─\n",
       "     └────────┬──────────────────────────────┬───────┘ ░       │       ║ \n",
       "q_3: ─────────┤ Initialize(0.24339,-0.96993) ├─────────░───────X───────╫─\n",
       "              └──────────────────────────────┘         ░               ║ \n",
       "c: 1/══════════════════════════════════════════════════════════════════╩═\n",
       "                                                                       0 "
      ]
     },
     "execution_count": 9,
     "metadata": {},
     "output_type": "execute_result"
    }
   ],
   "source": [
    "backend = Aer.get_backend('qasm_simulator')\n",
    "# create circuit with n qubits and one classical bit for measurement\n",
    "# qubits: first: ancilla, second: input vector, third: cluster center\n",
    "#(for latent space in R^2: 1 (ancilla) + 1 (x1,x2 coords of input) + 1 (x1,x2 coords of cluster))\n",
    "n = int((len(psi)+len(phi))/2)+1\n",
    "print('n ', n)\n",
    "qc = QuantumCircuit(n, 1, name=\"swap_test\")\n",
    "\n",
    "# load data\n",
    "# control qubit default 0\n",
    "# first and second qubits init to psi (tensorproduct of ancilla qubit and vector value)\n",
    "qc.initialize(psi, [1,2])\n",
    "# third qubit init to phi\n",
    "qc.initialize(phi, 3)\n",
    "qc.barrier()\n",
    "# apply hadamard to control\n",
    "qc.h(0)\n",
    "# swap psi ancilla with phi\n",
    "qc.cswap(0,1,3)\n",
    "# apply second hadamard\n",
    "qc.h(0)\n",
    "# measure control qubit\n",
    "qc.measure(0,0)\n",
    "qc.draw()"
   ]
  },
  {
   "cell_type": "code",
   "execution_count": 10,
   "metadata": {},
   "outputs": [
    {
     "data": {
      "image/png": "[encoded data removed]",
      "text/plain": [
       "<Figure size 504x360 with 1 Axes>"
      ]
     },
     "execution_count": 10,
     "metadata": {},
     "output_type": "execute_result"
    }
   ],
   "source": [
    "shots = 1024\n",
    "qobj = assemble(qc, backend)\n",
    "results = backend.run(qobj).result()\n",
    "answer = results.get_counts()\n",
    "\n",
    "plot_histogram(answer)"
   ]
  },
  {
   "cell_type": "code",
   "execution_count": 11,
   "metadata": {},
   "outputs": [],
   "source": [
    "# basic swap test directly on quantum states that are rotated against each other\n",
    "def swap_test_basic(rot_a_theta, rot_b_theta, rot_a_phi=0, rot_b_phi=0):\n",
    "    \n",
    "    backend = Aer.get_backend('qasm_simulator')\n",
    "    # create circuit with n qubits and one classical bit for measurement\n",
    "    # qubits: first: ancilla, second: input vector, third: cluster center\n",
    "    #(for latent space in R^2: 1 (ancilla) + 1 (x1,x2 coords of input) + 1 (x1,x2 coords of cluster))\n",
    "    n = 2+1\n",
    "    qc = QuantumCircuit(n, 1, name=\"swap_test\")\n",
    "\n",
    "    # control qubit default 0\n",
    "    # rotate qubit a around x by rotate_a theta\n",
    "    qc.u(rot_a_theta, rot_a_phi, 0, 1)\n",
    "    # rotate qubit b around x by rotate_b theta\n",
    "    qc.u(rot_b_theta, rot_b_phi, 0, 2)\n",
    "    # third qubit init to phi\n",
    "    qc.barrier()\n",
    "    # apply hadamard to control\n",
    "    qc.h(0)\n",
    "    # swap psi ancilla with phi\n",
    "    qc.cswap(0,1,2)\n",
    "    # apply second hadamard\n",
    "    qc.h(0)\n",
    "    # measure control qubit\n",
    "    qc.measure(0,0)\n",
    "    qc.draw()\n",
    "    \n",
    "    shots = 1024\n",
    "    qobj = assemble(qc, backend)\n",
    "    results = backend.run(qobj).result()\n",
    "    answer = results.get_counts()\n",
    "\n",
    "    return qc, answer"
   ]
  },
  {
   "cell_type": "code",
   "execution_count": 12,
   "metadata": {},
   "outputs": [],
   "source": [
    "qc, answer = swap_test_basic(0,1)"
   ]
  },
  {
   "cell_type": "code",
   "execution_count": 13,
   "metadata": {},
   "outputs": [
    {
     "data": {
      "text/html": [
       "<pre style=\"word-wrap: normal;white-space: pre;background: #fff0;line-height: 1.1;font-family: &quot;Courier New&quot;,Courier,monospace\">                  ░ ┌───┐   ┌───┐┌─┐\n",
       "q_0: ─────────────░─┤ H ├─■─┤ H ├┤M├\n",
       "     ┌──────────┐ ░ └───┘ │ └───┘└╥┘\n",
       "q_1: ┤ U(0,0,0) ├─░───────X───────╫─\n",
       "     ├──────────┤ ░       │       ║ \n",
       "q_2: ┤ U(1,0,0) ├─░───────X───────╫─\n",
       "     └──────────┘ ░               ║ \n",
       "c: 1/═════════════════════════════╩═\n",
       "                                  0 </pre>"
      ],
      "text/plain": [
       "                  ░ ┌───┐   ┌───┐┌─┐\n",
       "q_0: ─────────────░─┤ H ├─■─┤ H ├┤M├\n",
       "     ┌──────────┐ ░ └───┘ │ └───┘└╥┘\n",
       "q_1: ┤ U(0,0,0) ├─░───────X───────╫─\n",
       "     ├──────────┤ ░       │       ║ \n",
       "q_2: ┤ U(1,0,0) ├─░───────X───────╫─\n",
       "     └──────────┘ ░               ║ \n",
       "c: 1/═════════════════════════════╩═\n",
       "                                  0 "
      ]
     },
     "execution_count": 13,
     "metadata": {},
     "output_type": "execute_result"
    }
   ],
   "source": [
    "qc.draw()"
   ]
  },
  {
   "cell_type": "code",
   "execution_count": 14,
   "metadata": {},
   "outputs": [
    {
     "data": {
      "image/png": "[encoded data removed]",
      "text/plain": [
       "<Figure size 504x360 with 1 Axes>"
      ]
     },
     "execution_count": 14,
     "metadata": {},
     "output_type": "execute_result"
    }
   ],
   "source": [
    "plot_histogram(answer)"
   ]
  },
  {
   "cell_type": "code",
   "execution_count": 15,
   "metadata": {},
   "outputs": [
    {
     "data": {
      "text/plain": [
       "{'1': 130, '0': 894}"
      ]
     },
     "execution_count": 15,
     "metadata": {},
     "output_type": "execute_result"
    }
   ],
   "source": [
    "answer"
   ]
  },
  {
   "cell_type": "code",
   "execution_count": 16,
   "metadata": {},
   "outputs": [],
   "source": [
    "def calculate_overlap(answer):\n",
    "    shots = answer['0'] if len(answer) == 1 else answer['0']+answer['1']\n",
    "    return np.abs(answer['0']/shots - 0.5) * 2"
   ]
  },
  {
   "cell_type": "code",
   "execution_count": 17,
   "metadata": {},
   "outputs": [
    {
     "data": {
      "text/plain": [
       "0.74609375"
      ]
     },
     "execution_count": 17,
     "metadata": {},
     "output_type": "execute_result"
    }
   ],
   "source": [
    "calculate_overlap(answer)"
   ]
  },
  {
   "cell_type": "code",
   "execution_count": 18,
   "metadata": {},
   "outputs": [],
   "source": [
    "def calculate_angle_diff(rot_a, rot_b):\n",
    "    a = np.array([np.cos(rot_a), np.sin(rot_a)])\n",
    "    b = np.array([np.cos(rot_b), np.sin(rot_b)])\n",
    "    return np.linalg.norm(a-b)"
   ]
  },
  {
   "cell_type": "code",
   "execution_count": 19,
   "metadata": {},
   "outputs": [],
   "source": [
    "# caluclate overlaps for different qubit rotations\n",
    "angle_diffs = []\n",
    "overlaps = []\n",
    "rotations = []\n",
    "m = 50\n",
    "for rot_a in np.linspace(-np.pi,np.pi,m):\n",
    "    for rot_b in np.linspace(-np.pi,np.pi,m):\n",
    "        _, answer = swap_test_basic(rot_a,rot_b)\n",
    "        overlap = calculate_overlap(answer)\n",
    "        rotations.append((rot_a, rot_b))\n",
    "        angle_diffs.append(calculate_angle_diff(rot_a, rot_b))\n",
    "        overlaps.append(overlap)"
   ]
  },
  {
   "cell_type": "code",
   "execution_count": 20,
   "metadata": {},
   "outputs": [
    {
     "data": {
      "text/plain": [
       "[<matplotlib.lines.Line2D at 0x7fb2c025f860>]"
      ]
     },
     "execution_count": 20,
     "metadata": {},
     "output_type": "execute_result"
    },
    {
     "data": {
      "image/png": "[encoded data removed]",
      "text/plain": [
       "<Figure size 432x288 with 1 Axes>"
      ]
     },
     "metadata": {
      "needs_background": "light"
     },
     "output_type": "display_data"
    }
   ],
   "source": [
    "# plot results\n",
    "angle_diffs_sorted, overlaps_sorted, rotations_sorted = zip(*sorted(zip(angle_diffs, overlaps, rotations)))\n",
    "plt.plot(angle_diffs_sorted, overlaps_sorted)"
   ]
  },
  {
   "cell_type": "code",
   "execution_count": 21,
   "metadata": {},
   "outputs": [
    {
     "name": "stdout",
     "output_type": "stream",
     "text": [
      "[ True  True  True ... False False False]\n"
     ]
    }
   ],
   "source": [
    "print(np.array(overlaps_sorted) > 0.7)"
   ]
  },
  {
   "cell_type": "code",
   "execution_count": 22,
   "metadata": {},
   "outputs": [],
   "source": [
    "high_overlap = np.array(rotations_sorted)[:3]"
   ]
  },
  {
   "cell_type": "code",
   "execution_count": 23,
   "metadata": {},
   "outputs": [
    {
     "data": {
      "text/html": [
       "<pre style=\"word-wrap: normal;white-space: pre;background: #fff0;line-height: 1.1;font-family: &quot;Courier New&quot;,Courier,monospace\">     ┌────────────────┐\n",
       "q_0: ┤ U(-2.8851,0,0) ├\n",
       "     ├────────────────┤\n",
       "q_1: ┤ U(-2.8851,0,0) ├\n",
       "     └────────────────┘</pre>"
      ],
      "text/plain": [
       "     ┌────────────────┐\n",
       "q_0: ┤ U(-2.8851,0,0) ├\n",
       "     ├────────────────┤\n",
       "q_1: ┤ U(-2.8851,0,0) ├\n",
       "     └────────────────┘"
      ]
     },
     "execution_count": 23,
     "metadata": {},
     "output_type": "execute_result"
    }
   ],
   "source": [
    "from qiskit.visualization import plot_bloch_multivector, plot_histogram\n",
    "sim = Aer.get_backend('aer_simulator')\n",
    "# Let's have U-gate transform a |0> to |+> state\n",
    "qc = QuantumCircuit(2)\n",
    "qc.u(high_overlap[2,0], 0, 0, 0)\n",
    "qc.u(high_overlap[2,1], 0, 0, 1)\n",
    "qc.draw()"
   ]
  },
  {
   "cell_type": "code",
   "execution_count": 24,
   "metadata": {},
   "outputs": [
    {
     "data": {
      "image/png": "[encoded data removed]",
      "text/plain": [
       "<Figure size 576x288 with 2 Axes>"
      ]
     },
     "execution_count": 24,
     "metadata": {},
     "output_type": "execute_result"
    }
   ],
   "source": [
    "# Let's see the result\n",
    "qc.save_statevector()\n",
    "qobj = assemble(qc)\n",
    "state = sim.run(qobj).result().get_statevector()\n",
    "plot_bloch_multivector(state)"
   ]
  },
  {
   "cell_type": "markdown",
   "metadata": {},
   "source": [
    "## basic amplitude encoded swap test"
   ]
  },
  {
   "cell_type": "code",
   "execution_count": 25,
   "metadata": {},
   "outputs": [],
   "source": [
    "# basic swap test directly on quantum states that are rotated against each other\n",
    "def swap_test_basic_amp_encoding(values_a, values_b):\n",
    "    \n",
    "    backend = Aer.get_backend('qasm_simulator')\n",
    "    # create circuit with n qubits and one classical bit for measurement\n",
    "    # qubits: first: ancilla, second: input vector, third: cluster center\n",
    "    #(for latent space in R^2: 1 (ancilla) + 1 (x1,x2 coords of input) + 1 (x1,x2 coords of cluster))\n",
    "    n = 2+1\n",
    "    qc = QuantumCircuit(n, 1, name=\"swap_test\")\n",
    "\n",
    "    # control qubit default 0\n",
    "    # load data first vector\n",
    "    qc.initialize(values_a, 1)\n",
    "    # rotate qubit b around x by rotate_b theta\n",
    "    qc.initialize(values_b, 2)\n",
    "    # third qubit init to phi\n",
    "    qc.barrier()\n",
    "    # apply hadamard to control\n",
    "    qc.h(0)\n",
    "    # swap psi ancilla with phi\n",
    "    qc.cswap(0,1,2)\n",
    "    # apply second hadamard\n",
    "    qc.h(0)\n",
    "    # measure control qubit\n",
    "    qc.measure(0,0)\n",
    "    qc.draw()\n",
    "    \n",
    "    shots = 1024\n",
    "    qobj = assemble(qc, backend)\n",
    "    results = backend.run(qobj).result()\n",
    "    answer = results.get_counts()\n",
    "\n",
    "    return qc, answer"
   ]
  },
  {
   "cell_type": "code",
   "execution_count": 26,
   "metadata": {},
   "outputs": [],
   "source": [
    "a = np.array([10., 1])\n",
    "b = np.array([0.1, 1.1])\n",
    "# amplitude enoded\n",
    "a_q = calc_amplitudes(a)\n",
    "b_q = calc_amplitudes(b)"
   ]
  },
  {
   "cell_type": "code",
   "execution_count": 27,
   "metadata": {},
   "outputs": [
    {
     "name": "stdout",
     "output_type": "stream",
     "text": [
      "[0.99503719 0.09950372]\n",
      "[0.09053575 0.99589321]\n"
     ]
    }
   ],
   "source": [
    "print(a_q)\n",
    "print(b_q)"
   ]
  },
  {
   "cell_type": "code",
   "execution_count": 28,
   "metadata": {},
   "outputs": [],
   "source": [
    "qc, answer = swap_test_basic_amp_encoding(a_q, b_q)"
   ]
  },
  {
   "cell_type": "code",
   "execution_count": 29,
   "metadata": {},
   "outputs": [
    {
     "data": {
      "text/html": [
       "<pre style=\"word-wrap: normal;white-space: pre;background: #fff0;line-height: 1.1;font-family: &quot;Courier New&quot;,Courier,monospace\">                                      ░ ┌───┐   ┌───┐┌─┐\n",
       "q_0: ─────────────────────────────────░─┤ H ├─■─┤ H ├┤M├\n",
       "     ┌──────────────────────────────┐ ░ └───┘ │ └───┘└╥┘\n",
       "q_1: ┤ Initialize(0.99504,0.099504) ├─░───────X───────╫─\n",
       "     ├──────────────────────────────┤ ░       │       ║ \n",
       "q_2: ┤ Initialize(0.090536,0.99589) ├─░───────X───────╫─\n",
       "     └──────────────────────────────┘ ░               ║ \n",
       "c: 1/═════════════════════════════════════════════════╩═\n",
       "                                                      0 </pre>"
      ],
      "text/plain": [
       "                                      ░ ┌───┐   ┌───┐┌─┐\n",
       "q_0: ─────────────────────────────────░─┤ H ├─■─┤ H ├┤M├\n",
       "     ┌──────────────────────────────┐ ░ └───┘ │ └───┘└╥┘\n",
       "q_1: ┤ Initialize(0.99504,0.099504) ├─░───────X───────╫─\n",
       "     ├──────────────────────────────┤ ░       │       ║ \n",
       "q_2: ┤ Initialize(0.090536,0.99589) ├─░───────X───────╫─\n",
       "     └──────────────────────────────┘ ░               ║ \n",
       "c: 1/═════════════════════════════════════════════════╩═\n",
       "                                                      0 "
      ]
     },
     "execution_count": 29,
     "metadata": {},
     "output_type": "execute_result"
    }
   ],
   "source": [
    "qc.draw()"
   ]
  },
  {
   "cell_type": "code",
   "execution_count": 30,
   "metadata": {},
   "outputs": [
    {
     "data": {
      "image/png": "[encoded data removed]",
      "text/plain": [
       "<Figure size 504x360 with 1 Axes>"
      ]
     },
     "execution_count": 30,
     "metadata": {},
     "output_type": "execute_result"
    }
   ],
   "source": [
    "plot_histogram(answer)"
   ]
  },
  {
   "cell_type": "code",
   "execution_count": 31,
   "metadata": {},
   "outputs": [
    {
     "data": {
      "text/plain": [
       "{'1': 506, '0': 518}"
      ]
     },
     "execution_count": 31,
     "metadata": {},
     "output_type": "execute_result"
    }
   ],
   "source": [
    "answer"
   ]
  },
  {
   "cell_type": "code",
   "execution_count": 32,
   "metadata": {},
   "outputs": [],
   "source": [
    "# caluclate overlaps for different qubit rotations\n",
    "dist_eucl = []\n",
    "overlaps = []\n",
    "vectors = []\n",
    "for i in range(15):\n",
    "        a = calc_amplitudes(np.random.uniform(low=-2.3, high=2.3, size=2))\n",
    "        b = calc_amplitudes(np.random.uniform(low=-2.3, high=2.3, size=2))\n",
    "        _, answer = swap_test_basic_amp_encoding(a, b)\n",
    "        overlap = calculate_overlap(answer)\n",
    "        dist_eucl.append(np.linalg.norm(a-b))\n",
    "        overlaps.append(overlap)\n",
    "        vectors.append((a,b))"
   ]
  },
  {
   "cell_type": "code",
   "execution_count": 33,
   "metadata": {},
   "outputs": [
    {
     "data": {
      "text/plain": [
       "Text(0, 0.5, 'overlap')"
      ]
     },
     "execution_count": 33,
     "metadata": {},
     "output_type": "execute_result"
    },
    {
     "data": {
      "image/png": "[encoded data removed]",
      "text/plain": [
       "<Figure size 432x288 with 1 Axes>"
      ]
     },
     "metadata": {
      "needs_background": "light"
     },
     "output_type": "display_data"
    }
   ],
   "source": [
    "# plot results\n",
    "dist_eucl_sorted, overlaps_sorted, vectors_sorted = zip(*sorted(zip(dist_eucl, overlaps, vectors)))\n",
    "plt.plot(dist_eucl_sorted, overlaps_sorted)\n",
    "plt.xlabel('euclidian distance')\n",
    "plt.ylabel('overlap')"
   ]
  },
  {
   "cell_type": "code",
   "execution_count": 34,
   "metadata": {},
   "outputs": [
    {
     "data": {
      "text/plain": [
       "array([ True, False, False, False, False, False, False, False, False,\n",
       "       False, False, False, False, False,  True])"
      ]
     },
     "execution_count": 34,
     "metadata": {},
     "output_type": "execute_result"
    }
   ],
   "source": [
    "np.array(overlaps_sorted) > 0.7"
   ]
  },
  {
   "cell_type": "code",
   "execution_count": 35,
   "metadata": {},
   "outputs": [
    {
     "name": "stdout",
     "output_type": "stream",
     "text": [
      "[[[-0.75537264  0.65529549]\n",
      "  [ 0.98757204  0.15716698]]\n",
      "\n",
      " [[ 0.72245384  0.69141916]\n",
      "  [-0.16822801 -0.98574811]]\n",
      "\n",
      " [[ 0.63492526 -0.77257356]\n",
      "  [-0.82061915  0.57147547]]]\n"
     ]
    }
   ],
   "source": [
    "high_overlap = np.array(vectors_sorted)[-3:]\n",
    "print(high_overlap)"
   ]
  },
  {
   "cell_type": "code",
   "execution_count": 36,
   "metadata": {},
   "outputs": [
    {
     "name": "stdout",
     "output_type": "stream",
     "text": [
      "0.9999999999999999\n",
      "0.9999999999999999\n",
      "[ 1.45554441 -1.34404903]\n",
      "1.9811807931408207\n"
     ]
    },
    {
     "data": {
      "image/png": "[encoded data removed]",
      "text/plain": [
       "<Figure size 432x288 with 1 Axes>"
      ]
     },
     "metadata": {
      "needs_background": "light"
     },
     "output_type": "display_data"
    }
   ],
   "source": [
    "a = np.array(high_overlap[-1,0])\n",
    "b = np.array(high_overlap[-1,1])\n",
    "plt.quiver([0,0,0], [0,0,0], [a[0], b[0], (a-b)[0]], [a[1], b[1], (a-b)[1]], color=['r','b','g'], scale=4)\n",
    "print(np.linalg.norm(b))\n",
    "print(np.linalg.norm(b))\n",
    "print(a-b)\n",
    "print(np.linalg.norm(a-b))"
   ]
  },
  {
   "cell_type": "markdown",
   "metadata": {},
   "source": [
    "# amplitude encoded ancilla swap test"
   ]
  },
  {
   "cell_type": "markdown",
   "metadata": {},
   "source": [
    "## quasm simulator run"
   ]
  },
  {
   "cell_type": "code",
   "execution_count": 41,
   "metadata": {},
   "outputs": [],
   "source": [
    "# caluclate overlaps for different input vectors\n",
    "dist_eucl = []\n",
    "inner_prod_eucl = []\n",
    "overlaps = []\n",
    "vectors = []\n",
    "dist_overlap = []\n",
    "min_max_val = 1\n",
    "for i in range(100):\n",
    "        a = np.random.uniform(low=-min_max_val, high=min_max_val, size=2)\n",
    "        b = np.random.uniform(low=-min_max_val, high=min_max_val, size=2)\n",
    "        psi, phi, Z = prepare_swap_state_amplitudes(a, b)\n",
    "        _, answer = swap_test(phi, psi)\n",
    "        overlap = calculate_overlap(answer)\n",
    "        dist_eucl.append(np.linalg.norm(a-b))\n",
    "        inner_prod_eucl.append(np.dot(a,b))\n",
    "        overlaps.append(overlap)\n",
    "        vectors.append((a,b))\n",
    "        dist_overlap.append(np.abs(overlap)**2 * 2 * Z)"
   ]
  },
  {
   "cell_type": "code",
   "execution_count": 42,
   "metadata": {},
   "outputs": [
    {
     "data": {
      "text/plain": [
       "Text(0, 0.5, 'quantum overlap')"
      ]
     },
     "execution_count": 42,
     "metadata": {},
     "output_type": "execute_result"
    },
    {
     "data": {
      "image/png": "[encoded data removed]",
      "text/plain": [
       "<Figure size 432x288 with 1 Axes>"
      ]
     },
     "metadata": {
      "needs_background": "light"
     },
     "output_type": "display_data"
    }
   ],
   "source": [
    "# plot results\n",
    "dist_eucl_sorted, overlaps_sorted, vectors_sorted, dist_over_sorted, inner_prod_sorted = zip(*sorted(zip(dist_eucl, overlaps, vectors, dist_overlap, inner_prod_eucl)))\n",
    "plt.plot(dist_eucl_sorted, overlaps_sorted)\n",
    "plt.xlabel('euclidian distance sorted')\n",
    "plt.ylabel('quantum overlap')"
   ]
  },
  {
   "cell_type": "markdown",
   "metadata": {},
   "source": [
    "## statevector simulator run"
   ]
  },
  {
   "cell_type": "code",
   "execution_count": 37,
   "metadata": {},
   "outputs": [],
   "source": [
    "def calculate_overlap_from_statevec(statevec):\n",
    "    #return np.abs((np.abs(statevec[0]))**2 - 0.5) * 2\n",
    "    return np.abs(np.abs(sum(statevec[:8]))**2 - 0.5) * 2"
   ]
  },
  {
   "cell_type": "code",
   "execution_count": 43,
   "metadata": {},
   "outputs": [],
   "source": [
    "a = np.random.uniform(low=-min_max_val, high=min_max_val, size=2)\n",
    "b = np.random.uniform(low=-min_max_val, high=min_max_val, size=2)\n",
    "psi, phi, Z = prepare_swap_state_amplitudes(a, b)\n",
    "_, answer = swap_test(phi, psi, mode='statevec')"
   ]
  },
  {
   "cell_type": "code",
   "execution_count": 44,
   "metadata": {},
   "outputs": [
    {
     "data": {
      "text/plain": [
       "array([ 0.87870036, -0.06988012])"
      ]
     },
     "execution_count": 44,
     "metadata": {},
     "output_type": "execute_result"
    }
   ],
   "source": [
    "a"
   ]
  },
  {
   "cell_type": "code",
   "execution_count": 45,
   "metadata": {},
   "outputs": [
    {
     "data": {
      "text/plain": [
       "array([-0.14453196,  0.48039842])"
      ]
     },
     "execution_count": 45,
     "metadata": {},
     "output_type": "execute_result"
    }
   ],
   "source": [
    "b"
   ]
  },
  {
   "cell_type": "code",
   "execution_count": 46,
   "metadata": {},
   "outputs": [
    {
     "data": {
      "text/plain": [
       "(16,)"
      ]
     },
     "execution_count": 46,
     "metadata": {},
     "output_type": "execute_result"
    }
   ],
   "source": [
    "answer.shape"
   ]
  },
  {
   "cell_type": "code",
   "execution_count": 47,
   "metadata": {},
   "outputs": [
    {
     "data": {
      "text/latex": [
       "$\\displaystyle \n",
       "$$ |\\psi\\rangle =\\begin{bmatrix}\n",
       "0.61262 \\\\\n",
       "-0.04872 \\\\\n",
       "-0.17705 \\\\\n",
       "0.58849 \\\\\n",
       "-0.12394 \\\\\n",
       "-0.15360 \\\\\n",
       "-0.12394 \\\\\n",
       "-0.15360 \\\\\n",
       "0 \\\\\n",
       "0 \\\\\n",
       "0 \\\\\n",
       "0 \\\\\n",
       "-0.22471 \\\\\n",
       "0.18133 \\\\\n",
       "-0.22471 \\\\\n",
       "0.18133\\end{bmatrix} $"
      ],
      "text/plain": [
       "<IPython.core.display.Math object>"
      ]
     },
     "metadata": {},
     "output_type": "display_data"
    }
   ],
   "source": [
    "from qiskit_textbook.tools import vector2latex\n",
    "\n",
    "vector2latex(answer, pretext=\"|\\\\psi\\\\rangle =\")"
   ]
  },
  {
   "cell_type": "code",
   "execution_count": null,
   "metadata": {},
   "outputs": [],
   "source": []
  }
 ],
 "metadata": {
  "kernelspec": {
   "display_name": "Python 3",
   "language": "python",
   "name": "python3"
  },
  "language_info": {
   "codemirror_mode": {
    "name": "ipython",
    "version": 3
   },
   "file_extension": ".py",
   "mimetype": "text/x-python",
   "name": "python",
   "nbconvert_exporter": "python",
   "pygments_lexer": "ipython3",
   "version": "3.6.9"
  }
 },
 "nbformat": 4,
 "nbformat_minor": 2
}
