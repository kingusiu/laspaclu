{
 "cells": [
  {
   "cell_type": "code",
   "execution_count": 4,
   "metadata": {},
   "outputs": [
    {
     "name": "stderr",
     "output_type": "stream",
     "text": [
      "/home/kinga/.local/lib/python3.6/site-packages/qiskit/__init__.py:67: DeprecationWarning: Using Qiskit with Python 3.6 is deprecated as of the 0.17.0 release. Support for running Qiskit with Python 3.6 will be removed in a future release.\n",
      "  \"future release.\", DeprecationWarning)\n"
     ]
    }
   ],
   "source": [
    "import numpy as np\n",
    "import importlib\n",
    "import util as uti\n",
    "import matplotlib.pyplot as plt\n",
    "importlib.reload(uti)\n",
    "\n",
    "# import math lib\n",
    "from math import pi\n",
    "\n",
    "# import Qiskit\n",
    "from qiskit import Aer, IBMQ, execute, assemble, transpile\n",
    "from qiskit import QuantumCircuit, ClassicalRegister, QuantumRegister\n",
    "from qiskit.circuit.library import GroverOperator\n",
    "\n",
    "# import basic plot tools\n",
    "#import qiskit.visualization as vis\n",
    "from qiskit.visualization import plot_histogram\n",
    "%matplotlib inline"
   ]
  },
  {
   "cell_type": "markdown",
   "metadata": {},
   "source": [
    "# overlap calculation"
   ]
  },
  {
   "cell_type": "markdown",
   "metadata": {},
   "source": [
    "# state preparation"
   ]
  },
  {
   "cell_type": "code",
   "execution_count": 1,
   "metadata": {},
   "outputs": [],
   "source": [
    "def calc_amplitudes(v):\n",
    "    ''' amplitude encoding of raw input vector v '''\n",
    "    ''' TODO: compare with qiskit's RawFeatureVector '''\n",
    "    norm = np.linalg.norm(v)\n",
    "    return v/norm"
   ]
  },
  {
   "cell_type": "code",
   "execution_count": 11,
   "metadata": {},
   "outputs": [],
   "source": [
    "def prepare_swap_state_amplitudes(a_q, b_q):\n",
    "    # first state psi 1/sqrt(2) (|0,a> + \\1,b>)\n",
    "    psi = np.hstack([a_q, b_q]) * (1/np.sqrt(2))\n",
    "    a_q_norm = np.linalg.norm(a_q)\n",
    "    b_q_norm = np.linalg.norm(b_q)\n",
    "    Z = a_q_norm**2 + b_q_norm**2\n",
    "    # second state phi with identity\n",
    "    phi = np.array([a_q_norm, -b_q_norm]) * (1/np.sqrt(Z))\n",
    "    return psi, phi, Z"
   ]
  },
  {
   "cell_type": "markdown",
   "metadata": {},
   "source": [
    "# swap test"
   ]
  },
  {
   "cell_type": "code",
   "execution_count": null,
   "metadata": {},
   "outputs": [],
   "source": [
    "def swap_test(psi, phi):\n",
    "    \n",
    "    backend = Aer.get_backend('qasm_simulator')\n",
    "    # create circuit with n qubits and one classical bit for measurement\n",
    "    # qubits: first: ancilla, second: input vector, third: cluster center\n",
    "    #(for latent space in R^2: 1 (ancilla) + 1 (x1,x2 coords of input) + 1 (x1,x2 coords of cluster))\n",
    "    n = int((len(psi)+len(phi))/2)+1\n",
    "    \n",
    "    qc = QuantumCircuit(n, 1, name=\"swap_test\")\n",
    "    \n",
    "    # load data\n",
    "    # ancilla qubit default 0\n",
    "    # first and second qubits init to psi\n",
    "    qc.initialize(v1_amp, [2:3])"
   ]
  },
  {
   "cell_type": "markdown",
   "metadata": {},
   "source": [
    "# input data"
   ]
  },
  {
   "cell_type": "code",
   "execution_count": 53,
   "metadata": {},
   "outputs": [],
   "source": [
    "a = np.array([10., 1])\n",
    "b = np.array([-2., 40])\n",
    "# amplitude enoded\n",
    "a_q = calc_amplitudes(a)\n",
    "b_q = calc_amplitudes(b)"
   ]
  },
  {
   "cell_type": "code",
   "execution_count": 54,
   "metadata": {},
   "outputs": [
    {
     "name": "stdout",
     "output_type": "stream",
     "text": [
      "[10.  1.] [-2. 40.]\n",
      "[0.99503719 0.09950372] [-0.04993762  0.99875234]\n"
     ]
    }
   ],
   "source": [
    "print(a, b)\n",
    "print(a_q, b_q)"
   ]
  },
  {
   "cell_type": "code",
   "execution_count": 55,
   "metadata": {},
   "outputs": [],
   "source": [
    "psi, phi, Z = prepare_swap_state_amplitudes(a_q, b_q)"
   ]
  },
  {
   "cell_type": "code",
   "execution_count": 56,
   "metadata": {},
   "outputs": [
    {
     "name": "stdout",
     "output_type": "stream",
     "text": [
      "[ 0.70359754  0.07035975 -0.03531123  0.70622455]\n",
      "[ 0.70710678 -0.70710678]\n",
      "1.9999999999999996\n"
     ]
    }
   ],
   "source": [
    "print(psi)\n",
    "print(phi)\n",
    "print(Z)"
   ]
  },
  {
   "cell_type": "code",
   "execution_count": 57,
   "metadata": {},
   "outputs": [
    {
     "name": "stdout",
     "output_type": "stream",
     "text": [
      "n  4\n"
     ]
    },
    {
     "data": {
      "text/html": [
       "<pre style=\"word-wrap: normal;white-space: pre;background: #fff0;line-height: 1.1;font-family: &quot;Courier New&quot;,Courier,monospace\">                                                       ░ ┌───┐   ┌───┐┌─┐\n",
       "q_0: ──────────────────────────────────────────────────░─┤ H ├─■─┤ H ├┤M├\n",
       "     ┌───────────────────────────────────────────────┐ ░ └───┘ │ └───┘└╥┘\n",
       "q_1: ┤0                                              ├─░───────X───────╫─\n",
       "     │  initialize(0.7036,0.07036,-0.035311,0.70622) │ ░       │       ║ \n",
       "q_2: ┤1                                              ├─░───────┼───────╫─\n",
       "     └────────┬──────────────────────────────┬───────┘ ░       │       ║ \n",
       "q_3: ─────────┤ initialize(0.70711,-0.70711) ├─────────░───────X───────╫─\n",
       "              └──────────────────────────────┘         ░               ║ \n",
       "c: 1/══════════════════════════════════════════════════════════════════╩═\n",
       "                                                                       0 </pre>"
      ],
      "text/plain": [
       "                                                       ░ ┌───┐   ┌───┐┌─┐\n",
       "q_0: ──────────────────────────────────────────────────░─┤ H ├─■─┤ H ├┤M├\n",
       "     ┌───────────────────────────────────────────────┐ ░ └───┘ │ └───┘└╥┘\n",
       "q_1: ┤0                                              ├─░───────X───────╫─\n",
       "     │  initialize(0.7036,0.07036,-0.035311,0.70622) │ ░       │       ║ \n",
       "q_2: ┤1                                              ├─░───────┼───────╫─\n",
       "     └────────┬──────────────────────────────┬───────┘ ░       │       ║ \n",
       "q_3: ─────────┤ initialize(0.70711,-0.70711) ├─────────░───────X───────╫─\n",
       "              └──────────────────────────────┘         ░               ║ \n",
       "c: 1/══════════════════════════════════════════════════════════════════╩═\n",
       "                                                                       0 "
      ]
     },
     "execution_count": 57,
     "metadata": {},
     "output_type": "execute_result"
    }
   ],
   "source": [
    "backend = Aer.get_backend('qasm_simulator')\n",
    "# create circuit with n qubits and one classical bit for measurement\n",
    "# qubits: first: ancilla, second: input vector, third: cluster center\n",
    "#(for latent space in R^2: 1 (ancilla) + 1 (x1,x2 coords of input) + 1 (x1,x2 coords of cluster))\n",
    "n = int((len(psi)+len(phi))/2)+1\n",
    "print('n ', n)\n",
    "qc = QuantumCircuit(n, 1, name=\"swap_test\")\n",
    "\n",
    "# load data\n",
    "# control qubit default 0\n",
    "# first and second qubits init to psi (tensorproduct of ancilla qubit and vector value)\n",
    "qc.initialize(psi, [1,2])\n",
    "# third qubit init to phi\n",
    "qc.initialize(phi, 3)\n",
    "qc.barrier()\n",
    "# apply hadamard to control\n",
    "qc.h(0)\n",
    "# swap psi ancilla with phi\n",
    "qc.cswap(0,1,3)\n",
    "# apply second hadamard\n",
    "qc.h(0)\n",
    "# measure control qubit\n",
    "qc.measure(0,0)\n",
    "qc.draw()"
   ]
  },
  {
   "cell_type": "code",
   "execution_count": 58,
   "metadata": {},
   "outputs": [
    {
     "data": {
      "image/png": "[encoded data removed]",
      "text/plain": [
       "<Figure size 504x360 with 1 Axes>"
      ]
     },
     "execution_count": 58,
     "metadata": {},
     "output_type": "execute_result"
    }
   ],
   "source": [
    "shots = 1024\n",
    "qobj = assemble(qc, backend)\n",
    "results = backend.run(qobj).result()\n",
    "answer = results.get_counts()\n",
    "\n",
    "plot_histogram(answer)"
   ]
  },
  {
   "cell_type": "code",
   "execution_count": 112,
   "metadata": {},
   "outputs": [],
   "source": [
    "# basic swap test directly on quantum states that are rotated against each other\n",
    "def swap_test_basic(rotate_a, rotate_b):\n",
    "    \n",
    "    backend = Aer.get_backend('qasm_simulator')\n",
    "    # create circuit with n qubits and one classical bit for measurement\n",
    "    # qubits: first: ancilla, second: input vector, third: cluster center\n",
    "    #(for latent space in R^2: 1 (ancilla) + 1 (x1,x2 coords of input) + 1 (x1,x2 coords of cluster))\n",
    "    n = 2+1\n",
    "    qc = QuantumCircuit(n, 1, name=\"swap_test\")\n",
    "\n",
    "    # load data\n",
    "    # control qubit default 0\n",
    "    # rotate qubit a\n",
    "    qc.u(rotate_a, 0, 0, 1)\n",
    "    # rotate qubit b\n",
    "    qc.u(rotate_b, 0, 0, 2)\n",
    "    # third qubit init to phi\n",
    "    qc.barrier()\n",
    "    # apply hadamard to control\n",
    "    qc.h(0)\n",
    "    # swap psi ancilla with phi\n",
    "    qc.cswap(0,1,2)\n",
    "    # apply second hadamard\n",
    "    qc.h(0)\n",
    "    # measure control qubit\n",
    "    qc.measure(0,0)\n",
    "    qc.draw()\n",
    "    \n",
    "    shots = 1024\n",
    "    qobj = assemble(qc, backend)\n",
    "    results = backend.run(qobj).result()\n",
    "    answer = results.get_counts()\n",
    "\n",
    "    return qc, answer"
   ]
  },
  {
   "cell_type": "code",
   "execution_count": 152,
   "metadata": {},
   "outputs": [],
   "source": [
    "qc, answer = swap_test_basic(np.pi,0)"
   ]
  },
  {
   "cell_type": "code",
   "execution_count": 153,
   "metadata": {},
   "outputs": [
    {
     "data": {
      "text/html": [
       "<pre style=\"word-wrap: normal;white-space: pre;background: #fff0;line-height: 1.1;font-family: &quot;Courier New&quot;,Courier,monospace\">                  ░ ┌───┐   ┌───┐┌─┐\n",
       "q_0: ─────────────░─┤ H ├─■─┤ H ├┤M├\n",
       "     ┌──────────┐ ░ └───┘ │ └───┘└╥┘\n",
       "q_1: ┤ U(π,0,0) ├─░───────X───────╫─\n",
       "     ├──────────┤ ░       │       ║ \n",
       "q_2: ┤ U(0,0,0) ├─░───────X───────╫─\n",
       "     └──────────┘ ░               ║ \n",
       "c: 1/═════════════════════════════╩═\n",
       "                                  0 </pre>"
      ],
      "text/plain": [
       "                  ░ ┌───┐   ┌───┐┌─┐\n",
       "q_0: ─────────────░─┤ H ├─■─┤ H ├┤M├\n",
       "     ┌──────────┐ ░ └───┘ │ └───┘└╥┘\n",
       "q_1: ┤ U(π,0,0) ├─░───────X───────╫─\n",
       "     ├──────────┤ ░       │       ║ \n",
       "q_2: ┤ U(0,0,0) ├─░───────X───────╫─\n",
       "     └──────────┘ ░               ║ \n",
       "c: 1/═════════════════════════════╩═\n",
       "                                  0 "
      ]
     },
     "execution_count": 153,
     "metadata": {},
     "output_type": "execute_result"
    }
   ],
   "source": [
    "qc.draw()"
   ]
  },
  {
   "cell_type": "code",
   "execution_count": 154,
   "metadata": {},
   "outputs": [
    {
     "data": {
      "image/png": "[encoded data removed]",
      "text/plain": [
       "<Figure size 504x360 with 1 Axes>"
      ]
     },
     "execution_count": 154,
     "metadata": {},
     "output_type": "execute_result"
    }
   ],
   "source": [
    "plot_histogram(answer)"
   ]
  },
  {
   "cell_type": "code",
   "execution_count": 155,
   "metadata": {},
   "outputs": [
    {
     "data": {
      "text/plain": [
       "{'0': 515, '1': 509}"
      ]
     },
     "execution_count": 155,
     "metadata": {},
     "output_type": "execute_result"
    }
   ],
   "source": [
    "answer"
   ]
  },
  {
   "cell_type": "code",
   "execution_count": 156,
   "metadata": {},
   "outputs": [],
   "source": [
    "def calculate_overlap(answer):\n",
    "    shots = answer['0'] if len(answer) == 1 else answer['0']+answer['1']\n",
    "    return np.abs(answer['0']/shots - 0.5) * 2"
   ]
  },
  {
   "cell_type": "code",
   "execution_count": 157,
   "metadata": {},
   "outputs": [
    {
     "data": {
      "text/plain": [
       "0.005859375"
      ]
     },
     "execution_count": 157,
     "metadata": {},
     "output_type": "execute_result"
    }
   ],
   "source": [
    "calculate_overlap(answer)"
   ]
  },
  {
   "cell_type": "code",
   "execution_count": 180,
   "metadata": {},
   "outputs": [],
   "source": [
    "# caluclate overlaps for different qubit rotations\n",
    "angle_diffs = []\n",
    "overlaps = []\n",
    "for rot_a in np.linspace(0,pi,20):\n",
    "    for rot_b in np.linspace(0,pi,20):\n",
    "        _, answer = swap_test_basic(rot_a,rot_b)\n",
    "        overlap = calculate_overlap(answer)\n",
    "        angle_diffs.append(np.abs(rot_a - rot_b))\n",
    "        overlaps.append(overlap)"
   ]
  },
  {
   "cell_type": "code",
   "execution_count": 181,
   "metadata": {},
   "outputs": [
    {
     "data": {
      "text/plain": [
       "[<matplotlib.lines.Line2D at 0x7f7c1228bd68>]"
      ]
     },
     "execution_count": 181,
     "metadata": {},
     "output_type": "execute_result"
    },
    {
     "data": {
      "image/png": "[encoded data removed]",
      "text/plain": [
       "<Figure size 432x288 with 1 Axes>"
      ]
     },
     "metadata": {
      "needs_background": "light"
     },
     "output_type": "display_data"
    }
   ],
   "source": [
    "# plot results\n",
    "angle_diffs_sorted, overlaps_sorted = zip(*sorted(zip(angle_diffs, overlaps)))\n",
    "plt.plot(angle_diffs_sorted, overlaps_sorted)"
   ]
  },
  {
   "cell_type": "code",
   "execution_count": 102,
   "metadata": {},
   "outputs": [
    {
     "data": {
      "text/html": [
       "<pre style=\"word-wrap: normal;white-space: pre;background: #fff0;line-height: 1.1;font-family: &quot;Courier New&quot;,Courier,monospace\">     ┌────────────┐\n",
       "q_0: ┤ U(0.5,0,0) ├\n",
       "     └────────────┘</pre>"
      ],
      "text/plain": [
       "     ┌────────────┐\n",
       "q_0: ┤ U(0.5,0,0) ├\n",
       "     └────────────┘"
      ]
     },
     "execution_count": 102,
     "metadata": {},
     "output_type": "execute_result"
    }
   ],
   "source": [
    "from qiskit.visualization import plot_bloch_multivector, plot_histogram\n",
    "sim = Aer.get_backend('aer_simulator')\n",
    "# Let's have U-gate transform a |0> to |+> state\n",
    "qc = QuantumCircuit(1)\n",
    "qc.u(0.5, 0, 0, 0)\n",
    "qc.draw()"
   ]
  },
  {
   "cell_type": "code",
   "execution_count": 103,
   "metadata": {},
   "outputs": [
    {
     "data": {
      "image/png": "[encoded data removed]",
      "text/plain": [
       "<Figure size 288x288 with 1 Axes>"
      ]
     },
     "execution_count": 103,
     "metadata": {},
     "output_type": "execute_result"
    }
   ],
   "source": [
    "# Let's see the result\n",
    "qc.save_statevector()\n",
    "qobj = assemble(qc)\n",
    "state = sim.run(qobj).result().get_statevector()\n",
    "plot_bloch_multivector(state)"
   ]
  },
  {
   "cell_type": "code",
   "execution_count": 2,
   "metadata": {},
   "outputs": [
    {
     "data": {
      "text/plain": [
       "<qiskit.circuit.instructionset.InstructionSet at 0x7fbbb820a390>"
      ]
     },
     "execution_count": 2,
     "metadata": {},
     "output_type": "execute_result"
    }
   ],
   "source": [
    "# create circuit\n",
    "n = 2\n",
    "circ = QuantumCircuit(n+1)\n",
    "circ.h(0)"
   ]
  },
  {
   "cell_type": "code",
   "execution_count": 3,
   "metadata": {},
   "outputs": [
    {
     "data": {
      "text/plain": [
       "<qiskit.circuit.instructionset.InstructionSet at 0x7fbbb820a048>"
      ]
     },
     "execution_count": 3,
     "metadata": {},
     "output_type": "execute_result"
    }
   ],
   "source": [
    "# overlap 0 & 1\n",
    "circ.x(1)"
   ]
  },
  {
   "cell_type": "code",
   "execution_count": 4,
   "metadata": {},
   "outputs": [
    {
     "data": {
      "text/plain": [
       "<qiskit.circuit.instructionset.InstructionSet at 0x7fbbb820a128>"
      ]
     },
     "execution_count": 4,
     "metadata": {},
     "output_type": "execute_result"
    }
   ],
   "source": [
    "circ.cswap(0,1,2)"
   ]
  },
  {
   "cell_type": "code",
   "execution_count": 5,
   "metadata": {},
   "outputs": [
    {
     "data": {
      "text/plain": [
       "<qiskit.circuit.instructionset.InstructionSet at 0x7fbbb820a080>"
      ]
     },
     "execution_count": 5,
     "metadata": {},
     "output_type": "execute_result"
    }
   ],
   "source": [
    "circ.h(0)"
   ]
  },
  {
   "cell_type": "code",
   "execution_count": 6,
   "metadata": {},
   "outputs": [
    {
     "data": {
      "text/plain": [
       "<bound method measure of <qiskit.circuit.quantumcircuit.QuantumCircuit object at 0x7fbbb820a2b0>>"
      ]
     },
     "execution_count": 6,
     "metadata": {},
     "output_type": "execute_result"
    }
   ],
   "source": [
    "circ.measure"
   ]
  },
  {
   "cell_type": "code",
   "execution_count": null,
   "metadata": {},
   "outputs": [],
   "source": []
  }
 ],
 "metadata": {
  "kernelspec": {
   "display_name": "Python 3",
   "language": "python",
   "name": "python3"
  },
  "language_info": {
   "codemirror_mode": {
    "name": "ipython",
    "version": 3
   },
   "file_extension": ".py",
   "mimetype": "text/x-python",
   "name": "python",
   "nbconvert_exporter": "python",
   "pygments_lexer": "ipython3",
   "version": "3.6.9"
  }
 },
 "nbformat": 4,
 "nbformat_minor": 2
}
