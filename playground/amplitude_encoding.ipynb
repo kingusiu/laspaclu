{
 "cells": [
  {
   "cell_type": "code",
   "execution_count": 1,
   "metadata": {},
   "outputs": [
    {
     "name": "stderr",
     "output_type": "stream",
     "text": [
      "/home/kinga/.local/lib/python3.6/site-packages/qiskit/__init__.py:66: DeprecationWarning: Using Qiskit with Python 3.6 is deprecated as of qiskit-terra 0.17.0. Support for running Qiskit with Python 3.6 will be removed in qiskit-terra 0.20.0.\n",
      "  DeprecationWarning,\n"
     ]
    }
   ],
   "source": [
    "import numpy as np\n",
    "import importlib\n",
    "import util as uti\n",
    "import matplotlib.pyplot as plt\n",
    "importlib.reload(uti)\n",
    "\n",
    "# import math lib\n",
    "from math import pi\n",
    "\n",
    "# import Qiskit\n",
    "from qiskit import Aer, IBMQ, execute, assemble, transpile\n",
    "from qiskit import QuantumCircuit, ClassicalRegister, QuantumRegister\n",
    "from qiskit.circuit.library import GroverOperator\n",
    "from qiskit_machine_learning.circuit.library import RawFeatureVector\n",
    "\n",
    "# import basic plot tools\n",
    "#import qiskit.visualization as vis\n",
    "from qiskit.visualization import plot_histogram\n",
    "%matplotlib inline"
   ]
  },
  {
   "cell_type": "code",
   "execution_count": 6,
   "metadata": {},
   "outputs": [],
   "source": [
    "def recur_list_test(ll, s): # list argument passed as reference copy\n",
    "    if s < 7:\n",
    "        recur_list_test(ll, s+1)\n",
    "        ll.append(s)\n",
    "    ll = [1] # has no effect (new assignment to reference copy)"
   ]
  },
  {
   "cell_type": "code",
   "execution_count": 7,
   "metadata": {},
   "outputs": [],
   "source": [
    "ol = []\n",
    "recur_list_test(ol, 2)"
   ]
  },
  {
   "cell_type": "code",
   "execution_count": 8,
   "metadata": {},
   "outputs": [
    {
     "data": {
      "text/plain": [
       "[6, 5, 4, 3, 2]"
      ]
     },
     "execution_count": 8,
     "metadata": {},
     "output_type": "execute_result"
    }
   ],
   "source": [
    "ol"
   ]
  },
  {
   "cell_type": "code",
   "execution_count": 34,
   "metadata": {},
   "outputs": [
    {
     "data": {
      "text/plain": [
       "[3, 4, 5, 6]"
      ]
     },
     "execution_count": 34,
     "metadata": {},
     "output_type": "execute_result"
    }
   ],
   "source": [
    "list(range(3,7))"
   ]
  },
  {
   "cell_type": "code",
   "execution_count": 14,
   "metadata": {},
   "outputs": [],
   "source": [
    "def recursive_compute_beta(input_vector, betas):\n",
    "    \"\"\"\n",
    "    recursive rotation computetation\n",
    "    source: https://www.nature.com/articles/s41598-021-85474-1.pdf\n",
    "    \"\"\"\n",
    "    if len(input_vector) > 1:\n",
    "        new_x = []\n",
    "        beta = []\n",
    "        for k in range(0, len(input_vector), 2):\n",
    "            norm = np.sqrt(input_vector[k] ** 2 + input_vector[k + 1] ** 2)\n",
    "            new_x.append(norm)\n",
    "            if norm == 0:\n",
    "                beta.append(0)\n",
    "            else:\n",
    "                if input_vector[k] < 0:\n",
    "                    beta.append(2 * np.pi - 2 * np.arcsin(input_vector[k + 1] / norm))\n",
    "                else:\n",
    "                    beta.append(2 * np.arcsin(input_vector[k + 1] / norm))\n",
    "        recursive_compute_beta(new_x, betas)\n",
    "        betas.append(beta)"
   ]
  },
  {
   "cell_type": "code",
   "execution_count": 15,
   "metadata": {},
   "outputs": [],
   "source": [
    "def index(k, circuit, control_qubits, numberof_controls):\n",
    "    binary_index = '{:0{}b}'.format(k, numberof_controls)\n",
    "    for j, qbit in enumerate(control_qubits):\n",
    "        if binary_index[j] == '1':\n",
    "            circuit.x(qbit)"
   ]
  },
  {
   "cell_type": "code",
   "execution_count": 24,
   "metadata": {},
   "outputs": [],
   "source": [
    "def generate_circuit(betas, qcircuit, quantum_input, num_qubits):\n",
    "    numberof_controls = 0  # number of controls\n",
    "    control_bits = []\n",
    "    for angles in betas:\n",
    "        if numberof_controls == 0:\n",
    "            qcircuit.ry(angles[0], quantum_input[num_qubits-1])\n",
    "            numberof_controls += 1\n",
    "            control_bits.append(quantum_input[num_qubits-1])\n",
    "        else:\n",
    "            for k, angle in enumerate(reversed(angles)):\n",
    "                index(k, qcircuit, control_bits, numberof_controls)\n",
    "\n",
    "                qcircuit.mcry(angle, control_bits, quantum_input[num_qubits - 1 - numberof_controls],\n",
    "                              None, mode='noancilla')\n",
    "\n",
    "                index(k, qcircuit, control_bits, numberof_controls)\n",
    "                \n",
    "            control_bits.append(quantum_input[num_qubits - 1 - numberof_controls])\n",
    "            numberof_controls += 1"
   ]
  },
  {
   "cell_type": "code",
   "execution_count": 25,
   "metadata": {},
   "outputs": [],
   "source": [
    "def amplitude_encoding(input_vector):\n",
    "    \"\"\"\n",
    "    load real vector x to the amplitude of a quantum state\n",
    "    source: https://www.nature.com/articles/s41598-021-85474-1.pdf\n",
    "    \"\"\"\n",
    "    num_qubits = int(np.log2(len(input_vector)))\n",
    "    quantum_data = QuantumRegister(num_qubits)\n",
    "    qcircuit = QuantumCircuit(quantum_data)\n",
    "    newx = np.copy(input_vector)\n",
    "    betas = []\n",
    "    recursive_compute_beta(newx, betas)\n",
    "    generate_circuit(betas, qcircuit, quantum_data, num_qubits)\n",
    "    return qcircuit"
   ]
  },
  {
   "cell_type": "code",
   "execution_count": 28,
   "metadata": {},
   "outputs": [],
   "source": [
    "v1 = np.array([0.2, 1.5, 0.7, 0.99])\n",
    "qc_v1 = amplitude_encoding(v1)"
   ]
  },
  {
   "cell_type": "code",
   "execution_count": 29,
   "metadata": {},
   "outputs": [
    {
     "data": {
      "text/html": [
       "<pre style=\"word-wrap: normal;white-space: pre;background: #fff0;line-height: 1.1;font-family: &quot;Courier New&quot;,Courier,monospace\">                   ┌─────────────────┐     ┌─────────────────┐     \n",
       "q4_0: ─────────────┤ U(1.9107,0,0,0) ├─────┤ U(2.8765,0,0,0) ├─────\n",
       "      ┌───────────┐└────────┬────────┘┌───┐└────────┬────────┘┌───┐\n",
       "q4_1: ┤ Ry(1.351) ├─────────■─────────┤ X ├─────────■─────────┤ X ├\n",
       "      └───────────┘                   └───┘                   └───┘</pre>"
      ],
      "text/plain": [
       "                   ┌─────────────────┐     ┌─────────────────┐     \n",
       "q4_0: ─────────────┤ U(1.9107,0,0,0) ├─────┤ U(2.8765,0,0,0) ├─────\n",
       "      ┌───────────┐└────────┬────────┘┌───┐└────────┬────────┘┌───┐\n",
       "q4_1: ┤ Ry(1.351) ├─────────■─────────┤ X ├─────────■─────────┤ X ├\n",
       "      └───────────┘                   └───┘                   └───┘"
      ]
     },
     "execution_count": 29,
     "metadata": {},
     "output_type": "execute_result"
    }
   ],
   "source": [
    "qc_v1.draw()"
   ]
  },
  {
   "cell_type": "code",
   "execution_count": 30,
   "metadata": {},
   "outputs": [],
   "source": [
    "v2 = np.array([3.5, 0.5, 0.02, 6.7])\n",
    "qc_v2 = amplitude_encoding(v2)"
   ]
  },
  {
   "cell_type": "code",
   "execution_count": 31,
   "metadata": {},
   "outputs": [
    {
     "data": {
      "text/html": [
       "<pre style=\"word-wrap: normal;white-space: pre;background: #fff0;line-height: 1.1;font-family: &quot;Courier New&quot;,Courier,monospace\">                    ┌─────────────────┐     ┌──────────────────┐     \n",
       "q5_0: ──────────────┤ U(3.1356,0,0,0) ├─────┤ U(0.28379,0,0,0) ├─────\n",
       "      ┌────────────┐└────────┬────────┘┌───┐└────────┬─────────┘┌───┐\n",
       "q5_1: ┤ Ry(2.1705) ├─────────■─────────┤ X ├─────────■──────────┤ X ├\n",
       "      └────────────┘                   └───┘                    └───┘</pre>"
      ],
      "text/plain": [
       "                    ┌─────────────────┐     ┌──────────────────┐     \n",
       "q5_0: ──────────────┤ U(3.1356,0,0,0) ├─────┤ U(0.28379,0,0,0) ├─────\n",
       "      ┌────────────┐└────────┬────────┘┌───┐└────────┬─────────┘┌───┐\n",
       "q5_1: ┤ Ry(2.1705) ├─────────■─────────┤ X ├─────────■──────────┤ X ├\n",
       "      └────────────┘                   └───┘                    └───┘"
      ]
     },
     "execution_count": 31,
     "metadata": {},
     "output_type": "execute_result"
    }
   ],
   "source": [
    "qc_v2.draw()"
   ]
  },
  {
   "cell_type": "code",
   "execution_count": 36,
   "metadata": {},
   "outputs": [],
   "source": [
    "# basic swap test directly on quantum states that are rotated against each other\n",
    "def swap_test(v1, v2):\n",
    "    \n",
    "    backend = Aer.get_backend('qasm_simulator')\n",
    "    # create circuit with n qubits and one classical bit for measurement\n",
    "    # qubits: first: ancilla, second: input vector, third: cluster center\n",
    "    #(for latent space in R^2: 1 (ancilla) + 1 (x1,x2 coords of input) + 1 (x1,x2 coords of cluster))\n",
    "    n = int(np.log2(len(v1)))\n",
    "    qc = QuantumCircuit(n*2+1, 1, name=\"swap_test\")\n",
    "\n",
    "    # control qubit default 0\n",
    "    # append first vector\n",
    "    qc.append(v1, range(1,n+1))\n",
    "    # append second vector\n",
    "    qc.append(v2, range(n+1,n*2+1))\n",
    "    # third qubit init to phi\n",
    "    qc.barrier()\n",
    "    # apply hadamard to control\n",
    "    qc.h(0)\n",
    "    # swap pairwise qubits controlled on ancilla\n",
    "    for i in range(n):\n",
    "        swap_test_circuit.cswap(0,i+1,i+n)\n",
    "    # apply second hadamard\n",
    "    qc.h(0)\n",
    "    # measure control qubit\n",
    "    qc.measure(0,0)\n",
    "    qc.draw()\n",
    "    \n",
    "    shots = 1024\n",
    "    qobj = assemble(qc, backend)\n",
    "    results = backend.run(qobj).result()\n",
    "    answer = results.get_counts()\n",
    "\n",
    "    return qc, answer"
   ]
  },
  {
   "cell_type": "code",
   "execution_count": 38,
   "metadata": {},
   "outputs": [
    {
     "ename": "NameError",
     "evalue": "name 'num_qubits' is not defined",
     "output_type": "error",
     "traceback": [
      "\u001b[0;31m---------------------------------------------------------------------------\u001b[0m",
      "\u001b[0;31mNameError\u001b[0m                                 Traceback (most recent call last)",
      "\u001b[0;32m<ipython-input-38-56cfbf405d15>\u001b[0m in \u001b[0;36m<module>\u001b[0;34m\u001b[0m\n\u001b[0;32m----> 1\u001b[0;31m \u001b[0mqc\u001b[0m\u001b[0;34m,\u001b[0m \u001b[0manswer\u001b[0m \u001b[0;34m=\u001b[0m \u001b[0mswap_test\u001b[0m\u001b[0;34m(\u001b[0m\u001b[0mqc_v1\u001b[0m\u001b[0;34m,\u001b[0m \u001b[0mqc_v2\u001b[0m\u001b[0;34m)\u001b[0m\u001b[0;34m\u001b[0m\u001b[0;34m\u001b[0m\u001b[0m\n\u001b[0m",
      "\u001b[0;32m<ipython-input-36-043997afdf20>\u001b[0m in \u001b[0;36mswap_test\u001b[0;34m(v1, v2)\u001b[0m\n\u001b[1;32m     19\u001b[0m     \u001b[0mqc\u001b[0m\u001b[0;34m.\u001b[0m\u001b[0mh\u001b[0m\u001b[0;34m(\u001b[0m\u001b[0;36m0\u001b[0m\u001b[0;34m)\u001b[0m\u001b[0;34m\u001b[0m\u001b[0;34m\u001b[0m\u001b[0m\n\u001b[1;32m     20\u001b[0m     \u001b[0;31m# swap pairwise qubits controlled on ancilla\u001b[0m\u001b[0;34m\u001b[0m\u001b[0;34m\u001b[0m\u001b[0;34m\u001b[0m\u001b[0m\n\u001b[0;32m---> 21\u001b[0;31m     \u001b[0;32mfor\u001b[0m \u001b[0mi\u001b[0m \u001b[0;32min\u001b[0m \u001b[0mrange\u001b[0m\u001b[0;34m(\u001b[0m\u001b[0mnum_qubits\u001b[0m\u001b[0;34m)\u001b[0m\u001b[0;34m:\u001b[0m\u001b[0;34m\u001b[0m\u001b[0;34m\u001b[0m\u001b[0m\n\u001b[0m\u001b[1;32m     22\u001b[0m         \u001b[0mswap_test_circuit\u001b[0m\u001b[0;34m.\u001b[0m\u001b[0mcswap\u001b[0m\u001b[0;34m(\u001b[0m\u001b[0;36m0\u001b[0m\u001b[0;34m,\u001b[0m\u001b[0mi\u001b[0m\u001b[0;34m+\u001b[0m\u001b[0;36m1\u001b[0m\u001b[0;34m,\u001b[0m\u001b[0mi\u001b[0m\u001b[0;34m+\u001b[0m\u001b[0mn\u001b[0m\u001b[0;34m)\u001b[0m\u001b[0;34m\u001b[0m\u001b[0;34m\u001b[0m\u001b[0m\n\u001b[1;32m     23\u001b[0m     \u001b[0;31m# apply second hadamard\u001b[0m\u001b[0;34m\u001b[0m\u001b[0;34m\u001b[0m\u001b[0;34m\u001b[0m\u001b[0m\n",
      "\u001b[0;31mNameError\u001b[0m: name 'num_qubits' is not defined"
     ]
    }
   ],
   "source": [
    "qc, answer = swap_test(qc_v1, qc_v2)"
   ]
  },
  {
   "cell_type": "code",
   "execution_count": null,
   "metadata": {},
   "outputs": [],
   "source": []
  }
 ],
 "metadata": {
  "kernelspec": {
   "display_name": "Python 3",
   "language": "python",
   "name": "python3"
  },
  "language_info": {
   "codemirror_mode": {
    "name": "ipython",
    "version": 3
   },
   "file_extension": ".py",
   "mimetype": "text/x-python",
   "name": "python",
   "nbconvert_exporter": "python",
   "pygments_lexer": "ipython3",
   "version": "3.6.9"
  }
 },
 "nbformat": 4,
 "nbformat_minor": 2
}
