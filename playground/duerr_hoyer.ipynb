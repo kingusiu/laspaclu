{
 "cells": [
  {
   "cell_type": "code",
   "execution_count": 1,
   "metadata": {},
   "outputs": [
    {
     "name": "stderr",
     "output_type": "stream",
     "text": [
      "/home/kinga/.local/lib/python3.6/site-packages/qiskit/__init__.py:66: DeprecationWarning: Using Qiskit with Python 3.6 is deprecated as of qiskit-terra 0.17.0. Support for running Qiskit with Python 3.6 will be removed in qiskit-terra 0.20.0.\n",
      "  DeprecationWarning,\n"
     ]
    },
    {
     "data": {
      "text/plain": [
       "<module 'grover' from '/home/kinga/mnt6/laspaclu/quantum/grover.py'>"
      ]
     },
     "execution_count": 1,
     "metadata": {},
     "output_type": "execute_result"
    }
   ],
   "source": [
    "import numpy as np\n",
    "import importlib\n",
    "import operator\n",
    "import util as uti\n",
    "import matplotlib.pyplot as plt\n",
    "from collections import OrderedDict\n",
    "importlib.reload(uti)\n",
    "\n",
    "# import math lib\n",
    "import math\n",
    "\n",
    "# import Qiskit\n",
    "from qiskit import Aer, IBMQ, execute, assemble, transpile\n",
    "from qiskit import QuantumCircuit, ClassicalRegister, QuantumRegister\n",
    "from qiskit.circuit.library import GroverOperator\n",
    "from qiskit_machine_learning.circuit.library import RawFeatureVector\n",
    "\n",
    "# import basic plot tools\n",
    "#import qiskit.visualization as vis\n",
    "from qiskit.visualization import plot_histogram\n",
    "%matplotlib inline\n",
    "\n",
    "import sys\n",
    "import os\n",
    "sys.path.append(os.path.abspath('../quantum'))\n",
    "import oracles as ora\n",
    "import grover as gro\n",
    "importlib.reload(gro)"
   ]
  },
  {
   "cell_type": "code",
   "execution_count": 2,
   "metadata": {},
   "outputs": [],
   "source": [
    "def measure_by_prob(counts, n):\n",
    "    # sort indices by prob\n",
    "    sorted_counts = OrderedDict(sorted(counts.items(), key=lambda x: x[1], reverse=True))\n",
    "    # take most probable value (if it is in the limits of array)\n",
    "    for k in sorted_counts.keys():\n",
    "        if int(k,2) < n:\n",
    "            return int(k,2)\n",
    "    print('no valid index found')\n",
    "    return -1"
   ]
  },
  {
   "cell_type": "code",
   "execution_count": 3,
   "metadata": {},
   "outputs": [],
   "source": [
    "def duerr_hoyer_minimization(distances):\n",
    "    \n",
    "    nn = int(math.floor(math.log2(len(distances)) + 1))\n",
    "    iter_n = math.ceil(np.sqrt(2**nn)) # suggested in duerr & hoyer \n",
    "    \n",
    "    threshold_oracles = ora.create_threshold_oracle_set(distances)\n",
    "    \n",
    "    # init first random threshold\n",
    "    idx = np.random.randint(0, len(distances)-1)\n",
    "    \n",
    "    # iterate\n",
    "    for _ in range(iter_n):\n",
    "        \n",
    "        # pick next threshold\n",
    "        threshold = distances[idx]\n",
    "        print('next minimum guess: dist[{}] = {}'.format(idx, threshold))\n",
    "        marked_n = len(ora.get_indices_to_mark(distances, threshold))\n",
    "        \n",
    "        # create oracle combi and grover algo\n",
    "        oracle_qc = ora.create_oracle_lincombi(threshold, distances, threshold_oracles)\n",
    "        grover_qc = gro.grover_circuit(nn, oracle_qc, marked_n)\n",
    "        \n",
    "        # apply grover algo (only one shot to get a true collapsed value)\n",
    "        simulator = Aer.get_backend('qasm_simulator')\n",
    "        counts = execute(grover_qc, backend=simulator, shots=1000).result().get_counts(grover_qc)\n",
    "        idx = measure_by_prob(counts, len(distances))\n",
    "        \n",
    "    print('final minimum found dist[{}] = {}'.format(idx, distances[idx]))\n",
    "    return distances[idx]"
   ]
  },
  {
   "cell_type": "code",
   "execution_count": 4,
   "metadata": {},
   "outputs": [],
   "source": [
    "distances = np.array([17.1,4.6,6,2,8,32,7,16,4.7,9.234,1.1,34.5,3.875, 0.3])"
   ]
  },
  {
   "cell_type": "code",
   "execution_count": 5,
   "metadata": {},
   "outputs": [
    {
     "name": "stdout",
     "output_type": "stream",
     "text": [
      "next minimum guess: dist[2] = 6.0\n"
     ]
    },
    {
     "name": "stderr",
     "output_type": "stream",
     "text": [
      "/home/kinga/.local/lib/python3.6/site-packages/scipy/signal/waveforms.py:675: FutureWarning: elementwise comparison failed; returning scalar instead, but in the future will perform elementwise comparison\n",
      "  elif idx == 'mid':\n"
     ]
    },
    {
     "name": "stdout",
     "output_type": "stream",
     "text": [
      "next minimum guess: dist[3] = 2.0\n",
      "next minimum guess: dist[13] = 0.3\n"
     ]
    },
    {
     "name": "stderr",
     "output_type": "stream",
     "text": [
      "/home/kinga/.local/lib/python3.6/site-packages/scipy/signal/waveforms.py:675: FutureWarning: elementwise comparison failed; returning scalar instead, but in the future will perform elementwise comparison\n",
      "  elif idx == 'mid':\n"
     ]
    },
    {
     "name": "stdout",
     "output_type": "stream",
     "text": [
      "next minimum guess: dist[13] = 0.3\n",
      "final minimum found dist[13] = 0.3\n"
     ]
    },
    {
     "data": {
      "text/plain": [
       "0.3"
      ]
     },
     "execution_count": 5,
     "metadata": {},
     "output_type": "execute_result"
    }
   ],
   "source": [
    "duerr_hoyer_minimization(distances)"
   ]
  },
  {
   "cell_type": "code",
   "execution_count": 14,
   "metadata": {},
   "outputs": [],
   "source": [
    "a = np.empty((2,3))"
   ]
  },
  {
   "cell_type": "code",
   "execution_count": 15,
   "metadata": {},
   "outputs": [
    {
     "data": {
      "text/plain": [
       "array([[0., 0., 0.],\n",
       "       [0., 0., 0.]])"
      ]
     },
     "execution_count": 15,
     "metadata": {},
     "output_type": "execute_result"
    }
   ],
   "source": [
    "a"
   ]
  },
  {
   "cell_type": "code",
   "execution_count": 2,
   "metadata": {},
   "outputs": [],
   "source": [
    "rng = np.random.RandomState(2)"
   ]
  },
  {
   "cell_type": "code",
   "execution_count": 4,
   "metadata": {},
   "outputs": [],
   "source": [
    "i = rng.permutation(10)[:2]"
   ]
  },
  {
   "cell_type": "code",
   "execution_count": 5,
   "metadata": {},
   "outputs": [
    {
     "data": {
      "text/plain": [
       "array([1, 6])"
      ]
     },
     "execution_count": 5,
     "metadata": {},
     "output_type": "execute_result"
    }
   ],
   "source": [
    "i"
   ]
  },
  {
   "cell_type": "code",
   "execution_count": 6,
   "metadata": {},
   "outputs": [
    {
     "data": {
      "text/plain": [
       "array([4, 9, 5, 0, 8, 1, 2, 6, 7, 3])"
      ]
     },
     "execution_count": 6,
     "metadata": {},
     "output_type": "execute_result"
    }
   ],
   "source": [
    "rng.permutation(10)"
   ]
  },
  {
   "cell_type": "code",
   "execution_count": 11,
   "metadata": {},
   "outputs": [],
   "source": [
    "idx = np.random.choice(10, size=3, replace=False)"
   ]
  },
  {
   "cell_type": "code",
   "execution_count": 12,
   "metadata": {},
   "outputs": [],
   "source": [
    "a = np.random.randint(20, size=(10,4))"
   ]
  },
  {
   "cell_type": "code",
   "execution_count": 13,
   "metadata": {},
   "outputs": [
    {
     "data": {
      "text/plain": [
       "array([[ 3,  1, 18,  7],\n",
       "       [19,  4,  1, 18],\n",
       "       [18, 12, 19, 14]])"
      ]
     },
     "execution_count": 13,
     "metadata": {},
     "output_type": "execute_result"
    }
   ],
   "source": [
    "a[idx]"
   ]
  },
  {
   "cell_type": "code",
   "execution_count": 14,
   "metadata": {},
   "outputs": [
    {
     "data": {
      "text/plain": [
       "array([[ 4, 12, 16, 10],\n",
       "       [13, 17, 14, 15],\n",
       "       [13, 13, 13,  5],\n",
       "       [19,  4,  1, 18],\n",
       "       [16,  5, 19, 12],\n",
       "       [17, 14, 15, 14],\n",
       "       [18, 12, 19, 14],\n",
       "       [ 1,  6,  2,  2],\n",
       "       [15, 17,  9,  2],\n",
       "       [ 3,  1, 18,  7]])"
      ]
     },
     "execution_count": 14,
     "metadata": {},
     "output_type": "execute_result"
    }
   ],
   "source": [
    "a"
   ]
  },
  {
   "cell_type": "code",
   "execution_count": 19,
   "metadata": {},
   "outputs": [],
   "source": [
    "assign = np.random.choice(3, size=10)"
   ]
  },
  {
   "cell_type": "code",
   "execution_count": 20,
   "metadata": {},
   "outputs": [
    {
     "data": {
      "text/plain": [
       "array([0, 0, 2, 0, 0, 1, 1, 0, 0, 2])"
      ]
     },
     "execution_count": 20,
     "metadata": {},
     "output_type": "execute_result"
    }
   ],
   "source": [
    "assign"
   ]
  },
  {
   "cell_type": "code",
   "execution_count": 23,
   "metadata": {},
   "outputs": [
    {
     "data": {
      "text/plain": [
       "array([[17, 14, 15, 14],\n",
       "       [18, 12, 19, 14]])"
      ]
     },
     "execution_count": 23,
     "metadata": {},
     "output_type": "execute_result"
    }
   ],
   "source": [
    "a[assign == 1]"
   ]
  },
  {
   "cell_type": "code",
   "execution_count": 25,
   "metadata": {},
   "outputs": [
    {
     "data": {
      "text/plain": [
       "array([17.5, 13. , 17. , 14. ])"
      ]
     },
     "execution_count": 25,
     "metadata": {},
     "output_type": "execute_result"
    }
   ],
   "source": [
    "a[assign == 1].mean(axis=0)"
   ]
  },
  {
   "cell_type": "code",
   "execution_count": null,
   "metadata": {},
   "outputs": [],
   "source": []
  }
 ],
 "metadata": {
  "kernelspec": {
   "display_name": "Python 3",
   "language": "python",
   "name": "python3"
  },
  "language_info": {
   "codemirror_mode": {
    "name": "ipython",
    "version": 3
   },
   "file_extension": ".py",
   "mimetype": "text/x-python",
   "name": "python",
   "nbconvert_exporter": "python",
   "pygments_lexer": "ipython3",
   "version": "3.6.9"
  }
 },
 "nbformat": 4,
 "nbformat_minor": 2
}
