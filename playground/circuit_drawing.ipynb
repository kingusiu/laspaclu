{
 "cells": [
  {
   "cell_type": "code",
   "execution_count": 4,
   "metadata": {},
   "outputs": [],
   "source": [
    "from qiskit import QuantumCircuit, ClassicalRegister, QuantumRegister\n",
    "import numpy as np\n",
    "%matplotlib inline"
   ]
  },
  {
   "cell_type": "markdown",
   "metadata": {},
   "source": [
    "# swap test overlap circuit (psi ancilla)"
   ]
  },
  {
   "cell_type": "code",
   "execution_count": 20,
   "metadata": {},
   "outputs": [],
   "source": [
    "def normalize(v):\n",
    "    return v / np.linalg.norm(v)\n",
    "\n",
    "\n",
    "def calc_z(a, b) -> float:\n",
    "    ''' z = |a|**2 + |b|**2 '''\n",
    "    a_mag = np.linalg.norm(a)\n",
    "    b_mag = np.linalg.norm(b)\n",
    "    return a_mag**2 + b_mag**2\n",
    "\n",
    "\n",
    "def psi_amp(a, b):\n",
    "    ''' prepare amplitudes for state psi '''\n",
    "    \n",
    "    a_norm = normalize(a)\n",
    "    b_norm = normalize(b)\n",
    "\n",
    "    # import ipdb; ipdb.set_trace()\n",
    "    \n",
    "    return np.hstack([a_norm, b_norm]) * (1/np.sqrt(2))\n",
    "\n",
    "\n",
    "def phi_amp(a, b):\n",
    "    ''' prepare amplitudes for state phi '''\n",
    "\n",
    "    z = calc_z(a, b)\n",
    "    a_mag =  np.linalg.norm(a)\n",
    "    b_mag =  np.linalg.norm(b)\n",
    "    \n",
    "    return np.hstack([a_mag, -b_mag])/np.sqrt(z)\n",
    "\n",
    "\n",
    "def psi_circuit(a, b):\n",
    "\n",
    "    amp = psi_amp(a, b) # 2*n amplitudes 1/sqrt(2) (a0, ..., an, b0, ..., bn)\n",
    "    sz = int(np.log2(len(amp)))\n",
    "    \n",
    "    qc = QuantumCircuit(sz, name=r'$\\psi$ prep  ') # 2 qubits if a,b in R^2\n",
    "\n",
    "    qc.initialize(amp, range(sz))\n",
    "    \n",
    "    return qc\n",
    "\n",
    "\n",
    "def phi_circuit(a, b) -> QuantumCircuit:\n",
    "    ''' prepare subcircuit for state phi '''\n",
    "\n",
    "    amp = phi_amp(a, b) # 2 amplitudes 1/sqrt(z) (|a|, |b|)\n",
    "    sz = 1 # always 2 amplitudes\n",
    "    \n",
    "    qc = QuantumCircuit(sz, name=r'$\\phi$ prep  ') # 2 qubits if a,b in R^2\n",
    "\n",
    "    qc.initialize(amp, [0])\n",
    "    \n",
    "    return qc"
   ]
  },
  {
   "cell_type": "code",
   "execution_count": 30,
   "metadata": {},
   "outputs": [],
   "source": [
    "def overlap_circuit(a, b) -> QuantumCircuit:\n",
    "    ''' full overlap circuit < phi | psi > '''\n",
    "    n = len(a)\n",
    "    if not ((n & (n-1) == 0) and n != 0):\n",
    "        raise ValueError(\"size of input vectors must be power of 2 but is \" + str(n))\n",
    "    \n",
    "    psi = psi_circuit(a, b)\n",
    "    phi = phi_circuit(a, b)\n",
    "    \n",
    "    anc = QuantumRegister(1, 'anc')\n",
    "    qr_psi = QuantumRegister(psi.width(), 'psi')\n",
    "    qr_phi = QuantumRegister(phi.width(), 'phi')\n",
    "    cr = ClassicalRegister(1, 'c')\n",
    "    qc = QuantumCircuit(anc, qr_psi, qr_phi, cr)\n",
    "    \n",
    "    qc.append(psi, qr_psi[:])\n",
    "    qc.append(phi, qr_phi[:])\n",
    "    \n",
    "    qc.barrier()\n",
    "    \n",
    "    qc.h(0)\n",
    "    qc.cswap(0, qr_psi[-1], qr_phi[0]) # perform test on psi ancilla alone\n",
    "    qc.h(0)\n",
    "    \n",
    "    qc.measure(0,0)\n",
    "    \n",
    "    return qc"
   ]
  },
  {
   "cell_type": "code",
   "execution_count": 31,
   "metadata": {},
   "outputs": [],
   "source": [
    "qc = overlap_circuit([1,3],[6,7])"
   ]
  },
  {
   "cell_type": "code",
   "execution_count": 32,
   "metadata": {},
   "outputs": [
    {
     "data": {
      "image/png": "[encoded data removed]",
      "text/plain": [
       "<Figure size 531.937x325.08 with 1 Axes>"
      ]
     },
     "execution_count": 32,
     "metadata": {},
     "output_type": "execute_result"
    }
   ],
   "source": [
    "qc.draw(\"mpl\", style=\"bw\")"
   ]
  },
  {
   "cell_type": "markdown",
   "metadata": {},
   "source": [
    "# Oracles"
   ]
  },
  {
   "cell_type": "code",
   "execution_count": 5,
   "metadata": {},
   "outputs": [],
   "source": [
    "def create_threshold_oracle(nn, idcs_to_mark):\n",
    "    \n",
    "    # create the identity matrix on n qubits\n",
    "    oracle_matrix = np.identity(2**nn)\n",
    "    # add the -1 phase to marked elements\n",
    "    for idx in idcs_to_mark:\n",
    "        oracle_matrix[idx, idx] = -1\n",
    "        \n",
    "    # convert oracle_matrix into an operator, and add it to the quantum circuit\n",
    "    op = Operator(oracle_matrix)\n",
    "    \n",
    "    # create a quantum circuit on nn qubits\n",
    "    qc = QuantumCircuit(nn, name='oracle')\n",
    "    \n",
    "    # import ipdb; ipdb.set_trace()    \n",
    "    # convert oracle_matrix into an operator, and add it to the quantum circuit\n",
    "    qc.unitary(op, range(nn))\n",
    "    return qc"
   ]
  },
  {
   "cell_type": "markdown",
   "metadata": {},
   "source": [
    "# Grover"
   ]
  },
  {
   "cell_type": "code",
   "execution_count": 17,
   "metadata": {},
   "outputs": [],
   "source": [
    "from qiskit.quantum_info.operators import Operator, Pauli\n",
    "\n",
    "def diffuser(n):\n",
    "    \n",
    "    qc = QuantumCircuit(n)\n",
    "    \n",
    "    # Apply a H-gate to all qubits (transformation |s> -> |00..0>)\n",
    "    # Followed by X-gate (transformation |00..0> -> |11..1>)\n",
    "    for q in range(n):\n",
    "        qc.h(q)\n",
    "        qc.x(q)\n",
    "        \n",
    "    # Do multi-controlled-Z gate\n",
    "    qc.h(n-1)\n",
    "    qc.mct(list(range(n-1)), n-1)  # multi-controlled-toffoli\n",
    "    qc.h(n-1)\n",
    "    \n",
    "    # Apply transformation |11..1> -> |00..0>\n",
    "    # Apply transformation |00..0> -> |s>\n",
    "    for q in range(n):\n",
    "        qc.x(q)\n",
    "        qc.h(q)\n",
    "\n",
    "    # Convert diffuser to gate\n",
    "    diff_gate = qc.to_gate()\n",
    "    diff_gate.name = \"diffuser\"\n",
    "    \n",
    "    return diff_gate\n",
    "\n",
    "\n",
    "def grover_circuit(n, oracle, marked_n=1):\n",
    "    \n",
    "    qc = QuantumCircuit(n,n)\n",
    "\n",
    "    # Determine r\n",
    "    r = int(np.floor(np.pi/4*np.sqrt(2**n/marked_n))) if marked_n else 0\n",
    "    \n",
    "    # Apply a H-gate to all qubits\n",
    "    for q in range(n):\n",
    "        qc.h(q)\n",
    "\n",
    "    qc.barrier()\n",
    "    \n",
    "    for _ in range(r):\n",
    "        # add oracle\n",
    "        qc.append(oracle, range(n))   \n",
    "        # add diffuser\n",
    "        qc.append(diffuser(n), range(n))\n",
    "    \n",
    "    qc.barrier()\n",
    "    \n",
    "    # step 3: measure all qubits\n",
    "    qc.measure(range(n), range(n))\n",
    "  \n",
    "    return qc"
   ]
  },
  {
   "cell_type": "code",
   "execution_count": 21,
   "metadata": {},
   "outputs": [],
   "source": [
    "nn = 2 # 2 qubits (4 dimensional latent space)\n",
    "idcs_to_mark = [1] # |01> is winner\n",
    "ora_qc = create_threshold_oracle(nn, idcs_to_mark)"
   ]
  },
  {
   "cell_type": "code",
   "execution_count": 22,
   "metadata": {},
   "outputs": [],
   "source": [
    "marked_n = 1\n",
    "grover_qc = grover_circuit(nn, ora_qc, marked_n)"
   ]
  },
  {
   "cell_type": "code",
   "execution_count": 23,
   "metadata": {},
   "outputs": [
    {
     "data": {
      "image/png": "[encoded data removed]",
      "text/plain": [
       "<Figure size 628.252x204.68 with 1 Axes>"
      ]
     },
     "execution_count": 23,
     "metadata": {},
     "output_type": "execute_result"
    }
   ],
   "source": [
    "grover_qc.draw(\"mpl\", style=\"bw\")"
   ]
  },
  {
   "cell_type": "code",
   "execution_count": null,
   "metadata": {},
   "outputs": [],
   "source": []
  }
 ],
 "metadata": {
  "kernelspec": {
   "display_name": "Python 3",
   "language": "python",
   "name": "python3"
  },
  "language_info": {
   "codemirror_mode": {
    "name": "ipython",
    "version": 3
   },
   "file_extension": ".py",
   "mimetype": "text/x-python",
   "name": "python",
   "nbconvert_exporter": "python",
   "pygments_lexer": "ipython3",
   "version": "3.6.9"
  }
 },
 "nbformat": 4,
 "nbformat_minor": 2
}
