{
 "cells": [
  {
   "cell_type": "code",
   "execution_count": 1,
   "metadata": {},
   "outputs": [
    {
     "name": "stderr",
     "output_type": "stream",
     "text": [
      "/home/kinga/.local/lib/python3.6/site-packages/qiskit/__init__.py:67: DeprecationWarning: Using Qiskit with Python 3.6 is deprecated as of the 0.17.0 release. Support for running Qiskit with Python 3.6 will be removed in a future release.\n",
      "  \"future release.\", DeprecationWarning)\n"
     ]
    }
   ],
   "source": [
    "#initialization\n",
    "import matplotlib.pyplot as plt\n",
    "import numpy as np\n",
    "\n",
    "# importing Qiskit\n",
    "from qiskit import IBMQ, Aer, assemble, transpile\n",
    "from qiskit import QuantumCircuit, ClassicalRegister, QuantumRegister\n",
    "from qiskit.providers.ibmq import least_busy\n",
    "\n",
    "# import basic plot tools\n",
    "from qiskit.visualization import plot_histogram"
   ]
  },
  {
   "cell_type": "code",
   "execution_count": 2,
   "metadata": {},
   "outputs": [],
   "source": [
    "n = 2\n",
    "grover_circuit = QuantumCircuit(n)"
   ]
  },
  {
   "cell_type": "code",
   "execution_count": 3,
   "metadata": {},
   "outputs": [],
   "source": [
    "def initialize_s(qc, qubits):\n",
    "    \"\"\"Apply a H-gate to 'qubits' in qc\"\"\"\n",
    "    for q in qubits:\n",
    "        qc.h(q)\n",
    "    return qc"
   ]
  },
  {
   "cell_type": "code",
   "execution_count": 4,
   "metadata": {},
   "outputs": [
    {
     "data": {
      "text/html": [
       "<pre style=\"word-wrap: normal;white-space: pre;background: #fff0;line-height: 1.1;font-family: &quot;Courier New&quot;,Courier,monospace\">     ┌───┐\n",
       "q_0: ┤ H ├\n",
       "     ├───┤\n",
       "q_1: ┤ H ├\n",
       "     └───┘</pre>"
      ],
      "text/plain": [
       "     ┌───┐\n",
       "q_0: ┤ H ├\n",
       "     ├───┤\n",
       "q_1: ┤ H ├\n",
       "     └───┘"
      ]
     },
     "execution_count": 4,
     "metadata": {},
     "output_type": "execute_result"
    }
   ],
   "source": [
    "grover_circuit = initialize_s(grover_circuit, [0,1])\n",
    "grover_circuit.draw()"
   ]
  },
  {
   "cell_type": "code",
   "execution_count": 5,
   "metadata": {},
   "outputs": [
    {
     "data": {
      "text/html": [
       "<pre style=\"word-wrap: normal;white-space: pre;background: #fff0;line-height: 1.1;font-family: &quot;Courier New&quot;,Courier,monospace\">     ┌───┐   \n",
       "q_0: ┤ H ├─■─\n",
       "     ├───┤ │ \n",
       "q_1: ┤ H ├─■─\n",
       "     └───┘   </pre>"
      ],
      "text/plain": [
       "     ┌───┐   \n",
       "q_0: ┤ H ├─■─\n",
       "     ├───┤ │ \n",
       "q_1: ┤ H ├─■─\n",
       "     └───┘   "
      ]
     },
     "execution_count": 5,
     "metadata": {},
     "output_type": "execute_result"
    }
   ],
   "source": [
    "grover_circuit.cz(0,1) # Oracle\n",
    "grover_circuit.draw()"
   ]
  },
  {
   "cell_type": "code",
   "execution_count": 6,
   "metadata": {},
   "outputs": [
    {
     "data": {
      "text/html": [
       "<pre style=\"word-wrap: normal;white-space: pre;background: #fff0;line-height: 1.1;font-family: &quot;Courier New&quot;,Courier,monospace\">     ┌───┐   ┌───┐┌───┐   ┌───┐\n",
       "q_0: ┤ H ├─■─┤ H ├┤ Z ├─■─┤ H ├\n",
       "     ├───┤ │ ├───┤├───┤ │ ├───┤\n",
       "q_1: ┤ H ├─■─┤ H ├┤ Z ├─■─┤ H ├\n",
       "     └───┘   └───┘└───┘   └───┘</pre>"
      ],
      "text/plain": [
       "     ┌───┐   ┌───┐┌───┐   ┌───┐\n",
       "q_0: ┤ H ├─■─┤ H ├┤ Z ├─■─┤ H ├\n",
       "     ├───┤ │ ├───┤├───┤ │ ├───┤\n",
       "q_1: ┤ H ├─■─┤ H ├┤ Z ├─■─┤ H ├\n",
       "     └───┘   └───┘└───┘   └───┘"
      ]
     },
     "execution_count": 6,
     "metadata": {},
     "output_type": "execute_result"
    }
   ],
   "source": [
    "# Diffusion operator (U_s)\n",
    "grover_circuit.h([0,1])\n",
    "grover_circuit.z([0,1])\n",
    "grover_circuit.cz(0,1)\n",
    "grover_circuit.h([0,1])\n",
    "grover_circuit.draw()"
   ]
  },
  {
   "cell_type": "code",
   "execution_count": 7,
   "metadata": {},
   "outputs": [
    {
     "data": {
      "text/latex": [
       "$\\displaystyle \n",
       "$$ |\\psi\\rangle =\\begin{bmatrix}\n",
       "0 \\\\\n",
       "0 \\\\\n",
       "0 \\\\\n",
       "1\\end{bmatrix} $"
      ],
      "text/plain": [
       "<IPython.core.display.Math object>"
      ]
     },
     "metadata": {},
     "output_type": "display_data"
    }
   ],
   "source": [
    "sv_sim = Aer.get_backend('statevector_simulator')\n",
    "qobj = assemble(grover_circuit)\n",
    "result = sv_sim.run(qobj).result()\n",
    "statevec = result.get_statevector()\n",
    "from qiskit_textbook.tools import vector2latex\n",
    "vector2latex(statevec, pretext=\"|\\\\psi\\\\rangle =\")"
   ]
  },
  {
   "cell_type": "code",
   "execution_count": null,
   "metadata": {},
   "outputs": [],
   "source": []
  }
 ],
 "metadata": {
  "kernelspec": {
   "display_name": "Python 3",
   "language": "python",
   "name": "python3"
  },
  "language_info": {
   "codemirror_mode": {
    "name": "ipython",
    "version": 3
   },
   "file_extension": ".py",
   "mimetype": "text/x-python",
   "name": "python",
   "nbconvert_exporter": "python",
   "pygments_lexer": "ipython3",
   "version": "3.6.8"
  }
 },
 "nbformat": 4,
 "nbformat_minor": 2
}
