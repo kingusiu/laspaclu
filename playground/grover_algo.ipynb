{
 "cells": [
  {
   "cell_type": "code",
   "execution_count": 23,
   "metadata": {},
   "outputs": [],
   "source": [
    "#initialization\n",
    "import matplotlib.pyplot as plt\n",
    "import numpy as np\n",
    "\n",
    "# importing Qiskit\n",
    "from qiskit import IBMQ, Aer, assemble, transpile\n",
    "from qiskit.quantum_info import Operator\n",
    "from qiskit import QuantumCircuit, ClassicalRegister, QuantumRegister\n",
    "from qiskit.providers.ibmq import least_busy\n",
    "\n",
    "# import basic plot tools\n",
    "from qiskit.visualization import plot_histogram"
   ]
  },
  {
   "cell_type": "code",
   "execution_count": 34,
   "metadata": {},
   "outputs": [],
   "source": [
    "def oracle(n, winner='111'):\n",
    "    \n",
    "    qc = QuantumCircuit(n, name='oracle')\n",
    "    \n",
    "    # initialize identity matrix on n qubits\n",
    "    oracle_matrix = np.identity(2**n)\n",
    "    # add phase shift to winner index\n",
    "    win_idx = int(winner, 2)\n",
    "    oracle_matrix[win_idx, win_idx] = -1\n",
    "    \n",
    "    # convert oracle_matrix into an operator, and add it to the quantum circuit\n",
    "    qc.unitary(Operator(oracle_matrix), range(n))\n",
    "    # convert circuit to blackbox gate\n",
    "    oracle_gate = qc.to_gate()\n",
    "    oracle_gate.name='oracle'\n",
    "    \n",
    "    return oracle_gate"
   ]
  },
  {
   "cell_type": "code",
   "execution_count": 33,
   "metadata": {},
   "outputs": [],
   "source": [
    "def diffuser(n):\n",
    "    \n",
    "    qc = QuantumCircuit(n)\n",
    "    \n",
    "    # Apply a H-gate to all qubits (transformation |s> -> |00..0>)\n",
    "    # Followed by X-gate (transformation |00..0> -> |11..1>)\n",
    "    for q in range(n):\n",
    "        qc.h(q)\n",
    "        qc.x(q)\n",
    "        \n",
    "    # Do multi-controlled-Z gate\n",
    "    qc.h(n-1)\n",
    "    qc.mct(list(range(n-1)), n-1)  # multi-controlled-toffoli\n",
    "    qc.h(n-1)\n",
    "    \n",
    "    # Apply transformation |11..1> -> |00..0>\n",
    "    # Apply transformation |00..0> -> |s>\n",
    "    for q in range(n):\n",
    "        qc.x(q)\n",
    "        qc.h(q)\n",
    "\n",
    "    # Convert diffuser to gate\n",
    "    diff_gate = qc.to_gate()\n",
    "    diff_gate.name = \"diffuser\"\n",
    "    \n",
    "    return diff_gate"
   ]
  },
  {
   "cell_type": "code",
   "execution_count": 40,
   "metadata": {},
   "outputs": [],
   "source": [
    "def grover_circuit(n, winner):\n",
    "    \n",
    "    qc = QuantumCircuit(n,n)\n",
    "    \n",
    "    # Apply a H-gate to all qubits\n",
    "    for q in range(n):\n",
    "        qc.h(q)\n",
    "\n",
    "    # add oracle\n",
    "    qc.append(oracle(n, winner), range(n))\n",
    "    \n",
    "    # add diffuser\n",
    "    qc.append(diffuser(n), range(n))\n",
    "    \n",
    "     # step 3: measure all qubits\n",
    "    qc.measure(range(n), range(n))\n",
    "  \n",
    "    return qc\n",
    " "
   ]
  },
  {
   "cell_type": "code",
   "execution_count": 41,
   "metadata": {},
   "outputs": [
    {
     "data": {
      "text/html": [
       "<pre style=\"word-wrap: normal;white-space: pre;background: #fff0;line-height: 1.1;font-family: &quot;Courier New&quot;,Courier,monospace\">     ┌───┐┌─────────┐┌───────────┐┌─┐         \n",
       "q_0: ┤ H ├┤0        ├┤0          ├┤M├─────────\n",
       "     ├───┤│         ││           │└╥┘┌─┐      \n",
       "q_1: ┤ H ├┤1        ├┤1          ├─╫─┤M├──────\n",
       "     ├───┤│  oracle ││  diffuser │ ║ └╥┘┌─┐   \n",
       "q_2: ┤ H ├┤2        ├┤2          ├─╫──╫─┤M├───\n",
       "     ├───┤│         ││           │ ║  ║ └╥┘┌─┐\n",
       "q_3: ┤ H ├┤3        ├┤3          ├─╫──╫──╫─┤M├\n",
       "     └───┘└─────────┘└───────────┘ ║  ║  ║ └╥┘\n",
       "c: 4/══════════════════════════════╩══╩══╩══╩═\n",
       "                                   0  1  2  3 </pre>"
      ],
      "text/plain": [
       "     ┌───┐┌─────────┐┌───────────┐┌─┐         \n",
       "q_0: ┤ H ├┤0        ├┤0          ├┤M├─────────\n",
       "     ├───┤│         ││           │└╥┘┌─┐      \n",
       "q_1: ┤ H ├┤1        ├┤1          ├─╫─┤M├──────\n",
       "     ├───┤│  oracle ││  diffuser │ ║ └╥┘┌─┐   \n",
       "q_2: ┤ H ├┤2        ├┤2          ├─╫──╫─┤M├───\n",
       "     ├───┤│         ││           │ ║  ║ └╥┘┌─┐\n",
       "q_3: ┤ H ├┤3        ├┤3          ├─╫──╫──╫─┤M├\n",
       "     └───┘└─────────┘└───────────┘ ║  ║  ║ └╥┘\n",
       "c: 4/══════════════════════════════╩══╩══╩══╩═\n",
       "                                   0  1  2  3 "
      ]
     },
     "execution_count": 41,
     "metadata": {},
     "output_type": "execute_result"
    }
   ],
   "source": [
    "n = 4\n",
    "winner = '1101'\n",
    "grover_qc = grover_circuit(n, winner)\n",
    "grover_qc.draw()"
   ]
  },
  {
   "cell_type": "code",
   "execution_count": 42,
   "metadata": {},
   "outputs": [
    {
     "data": {
      "image/png": "[encoded data removed]",
      "text/plain": [
       "<Figure size 504x360 with 1 Axes>"
      ]
     },
     "execution_count": 42,
     "metadata": {},
     "output_type": "execute_result"
    }
   ],
   "source": [
    "from qiskit import Aer, execute\n",
    "simulator = Aer.get_backend('qasm_simulator')\n",
    "counts = execute(grover_qc, backend=simulator, shots=1000).result().get_counts(grover_qc)\n",
    "from qiskit.visualization import plot_histogram\n",
    "plot_histogram(counts)"
   ]
  },
  {
   "cell_type": "code",
   "execution_count": 5,
   "metadata": {},
   "outputs": [
    {
     "data": {
      "text/html": [
       "<pre style=\"word-wrap: normal;white-space: pre;background: #fff0;line-height: 1.1;font-family: &quot;Courier New&quot;,Courier,monospace\">     ┌───┐   \n",
       "q_0: ┤ H ├─■─\n",
       "     ├───┤ │ \n",
       "q_1: ┤ H ├─■─\n",
       "     └───┘   </pre>"
      ],
      "text/plain": [
       "     ┌───┐   \n",
       "q_0: ┤ H ├─■─\n",
       "     ├───┤ │ \n",
       "q_1: ┤ H ├─■─\n",
       "     └───┘   "
      ]
     },
     "execution_count": 5,
     "metadata": {},
     "output_type": "execute_result"
    }
   ],
   "source": [
    "grover_circuit.cz(0,1) # Oracle\n",
    "grover_circuit.draw()"
   ]
  },
  {
   "cell_type": "code",
   "execution_count": 6,
   "metadata": {},
   "outputs": [
    {
     "data": {
      "text/html": [
       "<pre style=\"word-wrap: normal;white-space: pre;background: #fff0;line-height: 1.1;font-family: &quot;Courier New&quot;,Courier,monospace\">     ┌───┐   ┌───┐┌───┐   ┌───┐\n",
       "q_0: ┤ H ├─■─┤ H ├┤ Z ├─■─┤ H ├\n",
       "     ├───┤ │ ├───┤├───┤ │ ├───┤\n",
       "q_1: ┤ H ├─■─┤ H ├┤ Z ├─■─┤ H ├\n",
       "     └───┘   └───┘└───┘   └───┘</pre>"
      ],
      "text/plain": [
       "     ┌───┐   ┌───┐┌───┐   ┌───┐\n",
       "q_0: ┤ H ├─■─┤ H ├┤ Z ├─■─┤ H ├\n",
       "     ├───┤ │ ├───┤├───┤ │ ├───┤\n",
       "q_1: ┤ H ├─■─┤ H ├┤ Z ├─■─┤ H ├\n",
       "     └───┘   └───┘└───┘   └───┘"
      ]
     },
     "execution_count": 6,
     "metadata": {},
     "output_type": "execute_result"
    }
   ],
   "source": [
    "# Diffusion operator (U_s)\n",
    "grover_circuit.h([0,1])\n",
    "grover_circuit.z([0,1])\n",
    "grover_circuit.cz(0,1)\n",
    "grover_circuit.h([0,1])\n",
    "grover_circuit.draw()"
   ]
  },
  {
   "cell_type": "code",
   "execution_count": 7,
   "metadata": {},
   "outputs": [
    {
     "data": {
      "text/latex": [
       "$\\displaystyle \n",
       "$$ |\\psi\\rangle =\\begin{bmatrix}\n",
       "0 \\\\\n",
       "0 \\\\\n",
       "0 \\\\\n",
       "1\\end{bmatrix} $"
      ],
      "text/plain": [
       "<IPython.core.display.Math object>"
      ]
     },
     "metadata": {},
     "output_type": "display_data"
    }
   ],
   "source": [
    "sv_sim = Aer.get_backend('statevector_simulator')\n",
    "qobj = assemble(grover_circuit)\n",
    "result = sv_sim.run(qobj).result()\n",
    "statevec = result.get_statevector()\n",
    "from qiskit_textbook.tools import vector2latex\n",
    "vector2latex(statevec, pretext=\"|\\\\psi\\\\rangle =\")"
   ]
  }
 ],
 "metadata": {
  "kernelspec": {
   "display_name": "Python 3",
   "language": "python",
   "name": "python3"
  },
  "language_info": {
   "codemirror_mode": {
    "name": "ipython",
    "version": 3
   },
   "file_extension": ".py",
   "mimetype": "text/x-python",
   "name": "python",
   "nbconvert_exporter": "python",
   "pygments_lexer": "ipython3",
   "version": "3.6.9"
  }
 },
 "nbformat": 4,
 "nbformat_minor": 2
}
