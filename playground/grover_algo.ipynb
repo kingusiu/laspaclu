{
 "cells": [
  {
   "cell_type": "code",
   "execution_count": 61,
   "metadata": {},
   "outputs": [],
   "source": [
    "# util\n",
    "import importlib\n",
    "\n",
    "#initialization\n",
    "import matplotlib.pyplot as plt\n",
    "import numpy as np\n",
    "import math\n",
    "\n",
    "# importing Qiskit\n",
    "from qiskit import IBMQ, Aer, assemble, transpile\n",
    "from qiskit.quantum_info import Operator\n",
    "from qiskit import QuantumCircuit, ClassicalRegister, QuantumRegister\n",
    "from qiskit.providers.ibmq import least_busy\n",
    "\n",
    "# import basic plot tools\n",
    "from qiskit.visualization import plot_histogram\n",
    "\n",
    "import sys\n",
    "import os\n",
    "sys.path.append(os.path.abspath('../quantum'))\n",
    "import oracles as ora"
   ]
  },
  {
   "cell_type": "code",
   "execution_count": 18,
   "metadata": {},
   "outputs": [],
   "source": [
    "def oracle(n, winner='111'):\n",
    "    \n",
    "    qc = QuantumCircuit(n, name='oracle')\n",
    "    \n",
    "    # initialize identity matrix on n qubits\n",
    "    oracle_matrix = np.identity(2**n)\n",
    "    # add phase shift to winner index\n",
    "    win_idx = int(winner, 2)\n",
    "    oracle_matrix[win_idx, win_idx] = -1\n",
    "    \n",
    "    # convert oracle_matrix into an operator, and add it to the quantum circuit\n",
    "    qc.unitary(Operator(oracle_matrix), range(n))\n",
    "    # convert circuit to blackbox gate\n",
    "    oracle_gate = qc.to_gate()\n",
    "    oracle_gate.name='oracle'\n",
    "    \n",
    "    return oracle_gate"
   ]
  },
  {
   "cell_type": "code",
   "execution_count": 19,
   "metadata": {},
   "outputs": [],
   "source": [
    "def diffuser(n):\n",
    "    \n",
    "    qc = QuantumCircuit(n)\n",
    "    \n",
    "    # Apply a H-gate to all qubits (transformation |s> -> |00..0>)\n",
    "    # Followed by X-gate (transformation |00..0> -> |11..1>)\n",
    "    for q in range(n):\n",
    "        qc.h(q)\n",
    "        qc.x(q)\n",
    "        \n",
    "    # Do multi-controlled-Z gate\n",
    "    qc.h(n-1)\n",
    "    qc.mct(list(range(n-1)), n-1)  # multi-controlled-toffoli\n",
    "    qc.h(n-1)\n",
    "    \n",
    "    # Apply transformation |11..1> -> |00..0>\n",
    "    # Apply transformation |00..0> -> |s>\n",
    "    for q in range(n):\n",
    "        qc.x(q)\n",
    "        qc.h(q)\n",
    "\n",
    "    # Convert diffuser to gate\n",
    "    diff_gate = qc.to_gate()\n",
    "    diff_gate.name = \"diffuser\"\n",
    "    \n",
    "    return diff_gate"
   ]
  },
  {
   "cell_type": "code",
   "execution_count": 20,
   "metadata": {},
   "outputs": [],
   "source": [
    "def grover_circuit(n, oracle):\n",
    "    \n",
    "    qc = QuantumCircuit(n,n)\n",
    "    \n",
    "    # Apply a H-gate to all qubits\n",
    "    for q in range(n):\n",
    "        qc.h(q)\n",
    "\n",
    "    # add oracle\n",
    "    qc.append(oracle, range(n))\n",
    "    \n",
    "    # add diffuser\n",
    "    qc.append(diffuser(n), range(n))\n",
    "    \n",
    "     # step 3: measure all qubits\n",
    "    qc.measure(range(n), range(n))\n",
    "  \n",
    "    return qc\n",
    " "
   ]
  },
  {
   "cell_type": "code",
   "execution_count": 21,
   "metadata": {},
   "outputs": [
    {
     "data": {
      "text/html": [
       "<pre style=\"word-wrap: normal;white-space: pre;background: #fff0;line-height: 1.1;font-family: &quot;Courier New&quot;,Courier,monospace\">     ┌───┐┌─────────┐┌───────────┐┌─┐         \n",
       "q_0: ┤ H ├┤0        ├┤0          ├┤M├─────────\n",
       "     ├───┤│         ││           │└╥┘┌─┐      \n",
       "q_1: ┤ H ├┤1        ├┤1          ├─╫─┤M├──────\n",
       "     ├───┤│  oracle ││  diffuser │ ║ └╥┘┌─┐   \n",
       "q_2: ┤ H ├┤2        ├┤2          ├─╫──╫─┤M├───\n",
       "     ├───┤│         ││           │ ║  ║ └╥┘┌─┐\n",
       "q_3: ┤ H ├┤3        ├┤3          ├─╫──╫──╫─┤M├\n",
       "     └───┘└─────────┘└───────────┘ ║  ║  ║ └╥┘\n",
       "c: 4/══════════════════════════════╩══╩══╩══╩═\n",
       "                                   0  1  2  3 </pre>"
      ],
      "text/plain": [
       "     ┌───┐┌─────────┐┌───────────┐┌─┐         \n",
       "q_0: ┤ H ├┤0        ├┤0          ├┤M├─────────\n",
       "     ├───┤│         ││           │└╥┘┌─┐      \n",
       "q_1: ┤ H ├┤1        ├┤1          ├─╫─┤M├──────\n",
       "     ├───┤│  oracle ││  diffuser │ ║ └╥┘┌─┐   \n",
       "q_2: ┤ H ├┤2        ├┤2          ├─╫──╫─┤M├───\n",
       "     ├───┤│         ││           │ ║  ║ └╥┘┌─┐\n",
       "q_3: ┤ H ├┤3        ├┤3          ├─╫──╫──╫─┤M├\n",
       "     └───┘└─────────┘└───────────┘ ║  ║  ║ └╥┘\n",
       "c: 4/══════════════════════════════╩══╩══╩══╩═\n",
       "                                   0  1  2  3 "
      ]
     },
     "execution_count": 21,
     "metadata": {},
     "output_type": "execute_result"
    }
   ],
   "source": [
    "n = 4\n",
    "winner = '1101'\n",
    "oracle = oracle(n, winner)\n",
    "grover_qc = grover_circuit(n, oracle)\n",
    "grover_qc.draw()"
   ]
  },
  {
   "cell_type": "code",
   "execution_count": 22,
   "metadata": {},
   "outputs": [
    {
     "data": {
      "image/png": "[encoded data removed]",
      "text/plain": [
       "<Figure size 504x360 with 1 Axes>"
      ]
     },
     "execution_count": 22,
     "metadata": {},
     "output_type": "execute_result"
    }
   ],
   "source": [
    "from qiskit import Aer, execute\n",
    "simulator = Aer.get_backend('qasm_simulator')\n",
    "counts = execute(grover_qc, backend=simulator, shots=1000).result().get_counts(grover_qc)\n",
    "from qiskit.visualization import plot_histogram\n",
    "plot_histogram(counts)"
   ]
  },
  {
   "cell_type": "code",
   "execution_count": 8,
   "metadata": {},
   "outputs": [
    {
     "ename": "AttributeError",
     "evalue": "'function' object has no attribute 'cz'",
     "output_type": "error",
     "traceback": [
      "\u001b[0;31m---------------------------------------------------------------------------\u001b[0m",
      "\u001b[0;31mAttributeError\u001b[0m                            Traceback (most recent call last)",
      "\u001b[0;32m<ipython-input-8-11a87ae2118e>\u001b[0m in \u001b[0;36m<module>\u001b[0;34m\u001b[0m\n\u001b[0;32m----> 1\u001b[0;31m \u001b[0mgrover_circuit\u001b[0m\u001b[0;34m.\u001b[0m\u001b[0mcz\u001b[0m\u001b[0;34m(\u001b[0m\u001b[0;36m0\u001b[0m\u001b[0;34m,\u001b[0m\u001b[0;36m1\u001b[0m\u001b[0;34m)\u001b[0m \u001b[0;31m# Oracle\u001b[0m\u001b[0;34m\u001b[0m\u001b[0;34m\u001b[0m\u001b[0m\n\u001b[0m\u001b[1;32m      2\u001b[0m \u001b[0mgrover_circuit\u001b[0m\u001b[0;34m.\u001b[0m\u001b[0mdraw\u001b[0m\u001b[0;34m(\u001b[0m\u001b[0;34m)\u001b[0m\u001b[0;34m\u001b[0m\u001b[0;34m\u001b[0m\u001b[0m\n",
      "\u001b[0;31mAttributeError\u001b[0m: 'function' object has no attribute 'cz'"
     ]
    }
   ],
   "source": [
    "grover_circuit.cz(0,1) # Oracle\n",
    "grover_circuit.draw()"
   ]
  },
  {
   "cell_type": "code",
   "execution_count": null,
   "metadata": {},
   "outputs": [],
   "source": [
    "# Diffusion operator (U_s)\n",
    "grover_circuit.h([0,1])\n",
    "grover_circuit.z([0,1])\n",
    "grover_circuit.cz(0,1)\n",
    "grover_circuit.h([0,1])\n",
    "grover_circuit.draw()"
   ]
  },
  {
   "cell_type": "code",
   "execution_count": null,
   "metadata": {},
   "outputs": [],
   "source": [
    "sv_sim = Aer.get_backend('statevector_simulator')\n",
    "qobj = assemble(grover_circuit)\n",
    "result = sv_sim.run(qobj).result()\n",
    "statevec = result.get_statevector()\n",
    "from qiskit_textbook.tools import vector2latex\n",
    "vector2latex(statevec, pretext=\"|\\\\psi\\\\rangle =\")"
   ]
  },
  {
   "cell_type": "markdown",
   "metadata": {},
   "source": [
    "# apply grover to threshold oracle"
   ]
  },
  {
   "cell_type": "code",
   "execution_count": 64,
   "metadata": {},
   "outputs": [],
   "source": [
    "distances = np.array([17,4,6,2,8,32,7,16])\n",
    "nn = int(math.floor(math.log2(len(distances)) + 1))"
   ]
  },
  {
   "cell_type": "code",
   "execution_count": 65,
   "metadata": {},
   "outputs": [],
   "source": [
    "threshold_oracles = ora.create_threshold_oracle_set(distances)"
   ]
  },
  {
   "cell_type": "code",
   "execution_count": 72,
   "metadata": {},
   "outputs": [],
   "source": [
    "threshold = distances[3] #6 -> 0001 (4), 0011 (2)\n",
    "oracle_qc = ora.create_oracle_lincombi(threshold, distances, threshold_oracles)"
   ]
  },
  {
   "cell_type": "code",
   "execution_count": 73,
   "metadata": {},
   "outputs": [
    {
     "data": {
      "text/html": [
       "<pre style=\"word-wrap: normal;white-space: pre;background: #fff0;line-height: 1.1;font-family: &quot;Courier New&quot;,Courier,monospace\">     ┌───┐┌───────────────┐┌───────────┐┌─┐         \n",
       "q_0: ┤ H ├┤0              ├┤0          ├┤M├─────────\n",
       "     ├───┤│               ││           │└╥┘┌─┐      \n",
       "q_1: ┤ H ├┤1              ├┤1          ├─╫─┤M├──────\n",
       "     ├───┤│  combi_oracle ││  diffuser │ ║ └╥┘┌─┐   \n",
       "q_2: ┤ H ├┤2              ├┤2          ├─╫──╫─┤M├───\n",
       "     ├───┤│               ││           │ ║  ║ └╥┘┌─┐\n",
       "q_3: ┤ H ├┤3              ├┤3          ├─╫──╫──╫─┤M├\n",
       "     └───┘└───────────────┘└───────────┘ ║  ║  ║ └╥┘\n",
       "c: 4/════════════════════════════════════╩══╩══╩══╩═\n",
       "                                         0  1  2  3 </pre>"
      ],
      "text/plain": [
       "     ┌───┐┌───────────────┐┌───────────┐┌─┐         \n",
       "q_0: ┤ H ├┤0              ├┤0          ├┤M├─────────\n",
       "     ├───┤│               ││           │└╥┘┌─┐      \n",
       "q_1: ┤ H ├┤1              ├┤1          ├─╫─┤M├──────\n",
       "     ├───┤│  combi_oracle ││  diffuser │ ║ └╥┘┌─┐   \n",
       "q_2: ┤ H ├┤2              ├┤2          ├─╫──╫─┤M├───\n",
       "     ├───┤│               ││           │ ║  ║ └╥┘┌─┐\n",
       "q_3: ┤ H ├┤3              ├┤3          ├─╫──╫──╫─┤M├\n",
       "     └───┘└───────────────┘└───────────┘ ║  ║  ║ └╥┘\n",
       "c: 4/════════════════════════════════════╩══╩══╩══╩═\n",
       "                                         0  1  2  3 "
      ]
     },
     "execution_count": 73,
     "metadata": {},
     "output_type": "execute_result"
    }
   ],
   "source": [
    "grover_qc = grover_circuit(nn, oracle_qc)\n",
    "grover_qc.draw()"
   ]
  },
  {
   "cell_type": "code",
   "execution_count": 74,
   "metadata": {},
   "outputs": [
    {
     "data": {
      "image/png": "[encoded data removed]",
      "text/plain": [
       "<Figure size 504x360 with 1 Axes>"
      ]
     },
     "execution_count": 74,
     "metadata": {},
     "output_type": "execute_result"
    }
   ],
   "source": [
    "simulator = Aer.get_backend('qasm_simulator')\n",
    "counts = execute(grover_qc, backend=simulator, shots=1000).result().get_counts(grover_qc)\n",
    "plot_histogram(counts)"
   ]
  },
  {
   "cell_type": "code",
   "execution_count": 51,
   "metadata": {},
   "outputs": [],
   "source": [
    "o6 = ora.create_threshold_oracle_operator(nn, [1,3])"
   ]
  },
  {
   "cell_type": "code",
   "execution_count": 52,
   "metadata": {},
   "outputs": [
    {
     "data": {
      "text/plain": [
       "<qiskit.circuit.instructionset.InstructionSet at 0x7f27c3ee1320>"
      ]
     },
     "execution_count": 52,
     "metadata": {},
     "output_type": "execute_result"
    }
   ],
   "source": [
    "qc = QuantumCircuit(nn, name='o6')\n",
    "        \n",
    "# convert oracle_matrix into an operator, and add it to the quantum circuit\n",
    "qc.unitary(o6, range(nn))"
   ]
  },
  {
   "cell_type": "code",
   "execution_count": 53,
   "metadata": {},
   "outputs": [
    {
     "data": {
      "text/html": [
       "<pre style=\"word-wrap: normal;white-space: pre;background: #fff0;line-height: 1.1;font-family: &quot;Courier New&quot;,Courier,monospace\">     ┌───┐┌─────┐┌───────────┐┌─┐         \n",
       "q_0: ┤ H ├┤0    ├┤0          ├┤M├─────────\n",
       "     ├───┤│     ││           │└╥┘┌─┐      \n",
       "q_1: ┤ H ├┤1    ├┤1          ├─╫─┤M├──────\n",
       "     ├───┤│  o6 ││  diffuser │ ║ └╥┘┌─┐   \n",
       "q_2: ┤ H ├┤2    ├┤2          ├─╫──╫─┤M├───\n",
       "     ├───┤│     ││           │ ║  ║ └╥┘┌─┐\n",
       "q_3: ┤ H ├┤3    ├┤3          ├─╫──╫──╫─┤M├\n",
       "     └───┘└─────┘└───────────┘ ║  ║  ║ └╥┘\n",
       "c: 4/══════════════════════════╩══╩══╩══╩═\n",
       "                               0  1  2  3 </pre>"
      ],
      "text/plain": [
       "     ┌───┐┌─────┐┌───────────┐┌─┐         \n",
       "q_0: ┤ H ├┤0    ├┤0          ├┤M├─────────\n",
       "     ├───┤│     ││           │└╥┘┌─┐      \n",
       "q_1: ┤ H ├┤1    ├┤1          ├─╫─┤M├──────\n",
       "     ├───┤│  o6 ││  diffuser │ ║ └╥┘┌─┐   \n",
       "q_2: ┤ H ├┤2    ├┤2          ├─╫──╫─┤M├───\n",
       "     ├───┤│     ││           │ ║  ║ └╥┘┌─┐\n",
       "q_3: ┤ H ├┤3    ├┤3          ├─╫──╫──╫─┤M├\n",
       "     └───┘└─────┘└───────────┘ ║  ║  ║ └╥┘\n",
       "c: 4/══════════════════════════╩══╩══╩══╩═\n",
       "                               0  1  2  3 "
      ]
     },
     "execution_count": 53,
     "metadata": {},
     "output_type": "execute_result"
    }
   ],
   "source": [
    "grover_qc = grover_circuit(nn, qc)\n",
    "grover_qc.draw()"
   ]
  },
  {
   "cell_type": "code",
   "execution_count": 54,
   "metadata": {},
   "outputs": [
    {
     "data": {
      "image/png": "[encoded data removed]",
      "text/plain": [
       "<Figure size 504x360 with 1 Axes>"
      ]
     },
     "execution_count": 54,
     "metadata": {},
     "output_type": "execute_result"
    }
   ],
   "source": [
    "simulator = Aer.get_backend('qasm_simulator')\n",
    "counts = execute(grover_qc, backend=simulator, shots=1000).result().get_counts(grover_qc)\n",
    "plot_histogram(counts)"
   ]
  },
  {
   "cell_type": "code",
   "execution_count": 56,
   "metadata": {},
   "outputs": [],
   "source": [
    "from scipy import signal\n",
    "idx, = np.where(distances==threshold) # assuming distinct values\n",
    "delta_coeff = signal.unit_impulse(len(distances), idx)"
   ]
  },
  {
   "cell_type": "code",
   "execution_count": 57,
   "metadata": {},
   "outputs": [
    {
     "data": {
      "text/plain": [
       "array([0., 0., 1., 0., 0., 0., 0., 0.])"
      ]
     },
     "execution_count": 57,
     "metadata": {},
     "output_type": "execute_result"
    }
   ],
   "source": [
    "delta_coeff"
   ]
  },
  {
   "cell_type": "code",
   "execution_count": 62,
   "metadata": {},
   "outputs": [],
   "source": [
    "importlib.reload(ora)\n",
    "idcs_to_mark = ora.get_indices_to_mark(distances, threshold) # what for empty set (min ele)?"
   ]
  },
  {
   "cell_type": "code",
   "execution_count": 63,
   "metadata": {},
   "outputs": [
    {
     "data": {
      "text/plain": [
       "array([1, 3])"
      ]
     },
     "execution_count": 63,
     "metadata": {},
     "output_type": "execute_result"
    }
   ],
   "source": [
    "idcs_to_mark"
   ]
  },
  {
   "cell_type": "code",
   "execution_count": null,
   "metadata": {},
   "outputs": [],
   "source": []
  }
 ],
 "metadata": {
  "kernelspec": {
   "display_name": "Python 3",
   "language": "python",
   "name": "python3"
  },
  "language_info": {
   "codemirror_mode": {
    "name": "ipython",
    "version": 3
   },
   "file_extension": ".py",
   "mimetype": "text/x-python",
   "name": "python",
   "nbconvert_exporter": "python",
   "pygments_lexer": "ipython3",
   "version": "3.6.9"
  }
 },
 "nbformat": 4,
 "nbformat_minor": 2
}
