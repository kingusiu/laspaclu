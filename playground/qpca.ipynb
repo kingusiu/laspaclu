{
 "cells": [
  {
   "cell_type": "code",
   "execution_count": 13,
   "metadata": {},
   "outputs": [],
   "source": [
    "import sys\n",
    "import os\n",
    "sys.path.append(os.path.abspath('../quantum'))\n",
    "import numpy as np\n",
    "import matplotlib.pyplot as plt\n",
    "\n",
    "from qiskit import QuantumCircuit\n",
    "import qiskit.quantum_info as qi\n",
    "from qiskit.extensions import HamiltonianGate\n",
    "from qiskit.visualization import array_to_latex\n",
    "\n",
    "# from quantum\n",
    "import encoding as enc"
   ]
  },
  {
   "cell_type": "markdown",
   "metadata": {},
   "source": [
    "# utilities"
   ]
  },
  {
   "cell_type": "code",
   "execution_count": 2,
   "metadata": {},
   "outputs": [],
   "source": [
    "def normalize(v):\n",
    "    return v / np.linalg.norm(v)"
   ]
  },
  {
   "cell_type": "markdown",
   "metadata": {},
   "source": [
    "## real inputs"
   ]
  },
  {
   "cell_type": "code",
   "execution_count": 3,
   "metadata": {},
   "outputs": [],
   "source": [
    "a11 = normalize(np.array([1,1]))\n",
    "a1_1 = normalize(np.array([1,-1]))\n",
    "a_11 = normalize(np.array([-1,1]))\n",
    "a_1_1 = normalize(np.array([-1,-1]))"
   ]
  },
  {
   "cell_type": "code",
   "execution_count": 4,
   "metadata": {},
   "outputs": [],
   "source": [
    "qc_a11 = enc.amplitude_encoding_circuit(a11)\n",
    "qc_a1_1 = enc.amplitude_encoding_circuit(a1_1)\n",
    "qc_a_11 = enc.amplitude_encoding_circuit(a_11)\n",
    "qc_a_1_1 = enc.amplitude_encoding_circuit(a_1_1)"
   ]
  },
  {
   "cell_type": "code",
   "execution_count": 5,
   "metadata": {},
   "outputs": [
    {
     "data": {
      "text/latex": [
       "$$\\frac{\\sqrt{2}}{2} |0\\rangle+\\frac{\\sqrt{2}}{2} |1\\rangle$$"
      ],
      "text/plain": [
       "<IPython.core.display.Latex object>"
      ]
     },
     "execution_count": 5,
     "metadata": {},
     "output_type": "execute_result"
    }
   ],
   "source": [
    "psi_a11 = qi.Statevector.from_instruction(qc_a11)\n",
    "psi_a11.draw('latex', prefix='|\\\\psi_{a11}\\\\rangle = ')"
   ]
  },
  {
   "cell_type": "code",
   "execution_count": 6,
   "metadata": {},
   "outputs": [
    {
     "data": {
      "text/latex": [
       "$$- \\frac{\\sqrt{2}}{2} |0\\rangle+\\frac{\\sqrt{2}}{2} |1\\rangle$$"
      ],
      "text/plain": [
       "<IPython.core.display.Latex object>"
      ]
     },
     "execution_count": 6,
     "metadata": {},
     "output_type": "execute_result"
    }
   ],
   "source": [
    "psi_a_11 = qi.Statevector.from_instruction(qc_a_11)\n",
    "psi_a_11.draw('latex', prefix='|\\\\psi_{a_11}\\\\rangle = ')"
   ]
  },
  {
   "cell_type": "markdown",
   "metadata": {},
   "source": [
    "## density matrix"
   ]
  },
  {
   "cell_type": "code",
   "execution_count": 7,
   "metadata": {},
   "outputs": [],
   "source": [
    "dm_a11 = qi.DensityMatrix.from_instruction(qc_a11)"
   ]
  },
  {
   "cell_type": "code",
   "execution_count": 8,
   "metadata": {},
   "outputs": [
    {
     "data": {
      "text/latex": [
       "$$\n",
       "\\rho_{AB} = \n",
       "\\begin{bmatrix}\n",
       "\\tfrac{1}{2} & \\tfrac{1}{2}  \\\\\n",
       " \\tfrac{1}{2} & \\tfrac{1}{2}  \\\\\n",
       " \\end{bmatrix}\n",
       "$$"
      ],
      "text/plain": [
       "<IPython.core.display.Latex object>"
      ]
     },
     "execution_count": 8,
     "metadata": {},
     "output_type": "execute_result"
    }
   ],
   "source": [
    "dm_a11.draw('latex', prefix='\\\\rho_{AB} = ')"
   ]
  },
  {
   "cell_type": "code",
   "execution_count": 9,
   "metadata": {},
   "outputs": [],
   "source": [
    "dm_a_11 = qi.DensityMatrix.from_instruction(qc_a_11)"
   ]
  },
  {
   "cell_type": "code",
   "execution_count": 10,
   "metadata": {},
   "outputs": [
    {
     "data": {
      "text/latex": [
       "$$\n",
       "\\rho_{AB} = \n",
       "\\begin{bmatrix}\n",
       "\\tfrac{1}{2} & -\\tfrac{1}{2}  \\\\\n",
       " -\\tfrac{1}{2} & \\tfrac{1}{2}  \\\\\n",
       " \\end{bmatrix}\n",
       "$$"
      ],
      "text/plain": [
       "<IPython.core.display.Latex object>"
      ]
     },
     "execution_count": 10,
     "metadata": {},
     "output_type": "execute_result"
    }
   ],
   "source": [
    "dm_a_11.draw('latex', prefix='\\\\rho_{a11} = ')"
   ]
  },
  {
   "cell_type": "code",
   "execution_count": 22,
   "metadata": {},
   "outputs": [],
   "source": [
    "# sum of density matrices\n",
    "dm_sum = dm_a11 + dm_a_11"
   ]
  },
  {
   "cell_type": "markdown",
   "metadata": {},
   "source": [
    "# exponential of density matrix U = e^(i rho t)"
   ]
  },
  {
   "cell_type": "code",
   "execution_count": 23,
   "metadata": {},
   "outputs": [],
   "source": [
    "t = 0.1 # ??? what delta-t ???\n",
    "U = HamiltonianGate(data=dm_a_11,time=t)"
   ]
  },
  {
   "cell_type": "code",
   "execution_count": 24,
   "metadata": {},
   "outputs": [
    {
     "data": {
      "text/latex": [
       "$$\n",
       "e^{i \\rho t} =\n",
       "\\begin{bmatrix}\n",
       "0.9975 - 0.04992i & 0.0025 + 0.04992i  \\\\\n",
       " 0.0025 + 0.04992i & 0.9975 - 0.04992i  \\\\\n",
       " \\end{bmatrix}\n",
       "$$"
      ],
      "text/plain": [
       "<IPython.core.display.Latex object>"
      ]
     },
     "execution_count": 24,
     "metadata": {},
     "output_type": "execute_result"
    }
   ],
   "source": [
    "array_to_latex(U.to_matrix(), prefix='e^{i \\\\rho t} =')"
   ]
  },
  {
   "cell_type": "code",
   "execution_count": null,
   "metadata": {},
   "outputs": [],
   "source": []
  }
 ],
 "metadata": {
  "kernelspec": {
   "display_name": "Python 3",
   "language": "python",
   "name": "python3"
  },
  "language_info": {
   "codemirror_mode": {
    "name": "ipython",
    "version": 3
   },
   "file_extension": ".py",
   "mimetype": "text/x-python",
   "name": "python",
   "nbconvert_exporter": "python",
   "pygments_lexer": "ipython3",
   "version": "3.6.8"
  }
 },
 "nbformat": 4,
 "nbformat_minor": 2
}
