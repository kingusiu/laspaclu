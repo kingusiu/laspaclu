{
 "cells": [
  {
   "cell_type": "code",
   "execution_count": 1,
   "metadata": {},
   "outputs": [
    {
     "name": "stderr",
     "output_type": "stream",
     "text": [
      "/home/kinga/.local/lib/python3.6/site-packages/qiskit/__init__.py:66: DeprecationWarning: Using Qiskit with Python 3.6 is deprecated as of qiskit-terra 0.17.0. Support for running Qiskit with Python 3.6 will be removed in qiskit-terra 0.20.0.\n",
      "  DeprecationWarning,\n"
     ]
    }
   ],
   "source": [
    "import numpy as np\n",
    "import importlib\n",
    "import util as uti\n",
    "import matplotlib.pyplot as plt\n",
    "\n",
    "# import math lib\n",
    "from math import pi\n",
    "\n",
    "# import Qiskit\n",
    "from qiskit import Aer, IBMQ, execute, assemble, transpile\n",
    "from qiskit import QuantumCircuit, ClassicalRegister, QuantumRegister\n",
    "from qiskit.quantum_info import state_fidelity, Statevector\n",
    "\n",
    "# import basic plot tools\n",
    "#import qiskit.visualization as vis\n",
    "from qiskit.visualization import plot_bloch_multivector, plot_histogram\n",
    "from qiskit_textbook.tools import vector2latex\n",
    "%matplotlib inline"
   ]
  },
  {
   "cell_type": "code",
   "execution_count": 2,
   "metadata": {},
   "outputs": [],
   "source": [
    "def calc_rotations(vv):\n",
    "    return (vv + 1) * pi / 2"
   ]
  },
  {
   "cell_type": "code",
   "execution_count": null,
   "metadata": {},
   "outputs": [],
   "source": [
    "# basic swap test directly on quantum states that are rotated against each other\n",
    "def swap_test(rot_a, rot_b):\n",
    "    \n",
    "    backend = Aer.get_backend('qasm_simulator')\n",
    "    # create circuit with n qubits and one classical bit for measurement\n",
    "    # qubits: first: ancilla, second: input vector, third: cluster center\n",
    "    #(for latent space in R^2: 1 (ancilla) + 1 (x1,x2 coords of input) + 1 (x1,x2 coords of cluster))\n",
    "    n = 2+1\n",
    "    qc = QuantumCircuit(n, 1, name=\"swap_test\")\n",
    "\n",
    "    # control qubit default 0\n",
    "    # rotate qubit a around x by rotate_a theta\n",
    "    qc.u(rot_a[0], rot_a[1], 0, 1)\n",
    "    # rotate qubit b around x by rotate_b theta\n",
    "    qc.u(rot_b[0], rot_b[1], 0, 1, 0, 2)\n",
    "    # third qubit init to phi\n",
    "    qc.barrier()\n",
    "    # apply hadamard to control\n",
    "    qc.h(0)\n",
    "    # swap psi ancilla with phi\n",
    "    qc.cswap(0,1,2)\n",
    "    # apply second hadamard\n",
    "    qc.h(0)\n",
    "    # measure control qubit\n",
    "    qc.measure(0,0)\n",
    "    qc.draw()\n",
    "    \n",
    "    shots = 1024\n",
    "    qobj = assemble(qc, backend)\n",
    "    results = backend.run(qobj).result()\n",
    "    answer = results.get_counts()\n",
    "\n",
    "    return qc, answer"
   ]
  }
 ],
 "metadata": {
  "kernelspec": {
   "display_name": "Python 3",
   "language": "python",
   "name": "python3"
  },
  "language_info": {
   "codemirror_mode": {
    "name": "ipython",
    "version": 3
   },
   "file_extension": ".py",
   "mimetype": "text/x-python",
   "name": "python",
   "nbconvert_exporter": "python",
   "pygments_lexer": "ipython3",
   "version": "3.6.9"
  }
 },
 "nbformat": 4,
 "nbformat_minor": 2
}
